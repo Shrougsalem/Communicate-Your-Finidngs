{
 "cells": [
  {
   "cell_type": "markdown",
   "metadata": {},
   "source": [
    "# Ford GoBike Data System: Data Exploration\n",
    "\n",
    "* [Introduction](#intro)\n",
    "* [Preliminary Wrangling](#wrangle)\n",
    "* [Date Exploration](#explore)\n",
    "\n",
    "<br/><br/>\n",
    "<a id='intro'></a>\n",
    "## Introduction\n",
    "This document explores a dataset that includes information about individual rides made in a bike-sharing system covering the greater San Francisco Bay area. it covers the first quarter of 2020. [Download here](https://www.lyft.com/bikes/bay-wheels/system-data), you'll find Bay Wheels's trip data for public use.\n",
    "<br/>\n",
    "In this project we will gather on real-world data to wrangle, explore, analyze, and comunicate our findings about Bay Wheels's trip data. We will do an exploratory analysis to answer the following.\n",
    "\n",
    "* When are most trips taken in terms of time of day, day of the week, or month of the year?\n",
    "<br/>\n",
    "* How long does the average trip take?\n",
    "<br/>\n",
    "* Does the above depend on if a user is a subscriber or customer?\n",
    "\n"
   ]
  },
  {
   "cell_type": "markdown",
   "metadata": {},
   "source": [
    "### The Data\n",
    "Each trip is anonymized and includes:\n",
    "- Trip Duration (seconds)<br/>\n",
    "- Start Time and Date <br/>\n",
    "- End Time and Date <br/>\n",
    "- Start Station ID <br/>\n",
    "- Start Station Name\n",
    "- Start Station Latitude\n",
    "- Start Station Longitude\n",
    "- End Station ID\n",
    "- End Station Name\n",
    "- End Station Latitude\n",
    "- End Station Longitude\n",
    "- Bike ID\n",
    "- User Type (Subscriber or Customer – “Subscriber” = Member or “Customer” = Casual)\n",
    "- Rental access method (using app or clipper, clipper is the all-in-one transit card for the Bay Area)"
   ]
  },
  {
   "cell_type": "markdown",
   "metadata": {},
   "source": [
    "<a id='wrangle'></a>\n",
    "## Preliminary Wrangling"
   ]
  },
  {
   "cell_type": "code",
   "execution_count": 1,
   "metadata": {},
   "outputs": [],
   "source": [
    "# import all packages and set plots to be embedded inline\n",
    "import numpy as np\n",
    "import pandas as pd\n",
    "import matplotlib.pyplot as plt\n",
    "import seaborn as sb\n",
    "import calendar\n",
    "import datetime\n",
    "\n",
    "%matplotlib inline"
   ]
  },
  {
   "cell_type": "markdown",
   "metadata": {},
   "source": [
    "### Gathering Data"
   ]
  },
  {
   "cell_type": "code",
   "execution_count": 2,
   "metadata": {
    "scrolled": true
   },
   "outputs": [
    {
     "name": "stderr",
     "output_type": "stream",
     "text": [
      "/Users/Sherry/opt/anaconda3/lib/python3.7/site-packages/IPython/core/interactiveshell.py:3063: DtypeWarning: Columns (13) have mixed types.Specify dtype option on import or set low_memory=False.\n",
      "  interactivity=interactivity, compiler=compiler, result=result)\n"
     ]
    }
   ],
   "source": [
    "# load in the dataset into a pandas dataframe, print statistics\n",
    "jan_df = pd.read_csv('202001-baywheels-tripdata.csv')\n",
    "feb_df = pd.read_csv('202002-baywheels-tripdata.csv')\n",
    "march_df = pd.read_csv('202003-baywheels-tripdata.csv')"
   ]
  },
  {
   "cell_type": "code",
   "execution_count": 3,
   "metadata": {},
   "outputs": [],
   "source": [
    "#https://pandas.pydata.org/pandas-docs/stable/user_guide/merging.html\n",
    "frames=[jan_df, feb_df, march_df]\n",
    "df=pd.concat(frames, ignore_index=True, axis=0)"
   ]
  },
  {
   "cell_type": "markdown",
   "metadata": {},
   "source": [
    "### Assessing Data"
   ]
  },
  {
   "cell_type": "code",
   "execution_count": 4,
   "metadata": {
    "scrolled": true
   },
   "outputs": [
    {
     "name": "stdout",
     "output_type": "stream",
     "text": [
      "2017 dataset has  905007  rows and  14  columns\n"
     ]
    },
    {
     "data": {
      "text/html": [
       "<div>\n",
       "<style scoped>\n",
       "    .dataframe tbody tr th:only-of-type {\n",
       "        vertical-align: middle;\n",
       "    }\n",
       "\n",
       "    .dataframe tbody tr th {\n",
       "        vertical-align: top;\n",
       "    }\n",
       "\n",
       "    .dataframe thead th {\n",
       "        text-align: right;\n",
       "    }\n",
       "</style>\n",
       "<table border=\"1\" class=\"dataframe\">\n",
       "  <thead>\n",
       "    <tr style=\"text-align: right;\">\n",
       "      <th></th>\n",
       "      <th>duration_sec</th>\n",
       "      <th>start_time</th>\n",
       "      <th>end_time</th>\n",
       "      <th>start_station_id</th>\n",
       "      <th>start_station_name</th>\n",
       "      <th>start_station_latitude</th>\n",
       "      <th>start_station_longitude</th>\n",
       "      <th>end_station_id</th>\n",
       "      <th>end_station_name</th>\n",
       "      <th>end_station_latitude</th>\n",
       "      <th>end_station_longitude</th>\n",
       "      <th>bike_id</th>\n",
       "      <th>user_type</th>\n",
       "      <th>rental_access_method</th>\n",
       "    </tr>\n",
       "  </thead>\n",
       "  <tbody>\n",
       "    <tr>\n",
       "      <th>0</th>\n",
       "      <td>83118</td>\n",
       "      <td>2020-01-31 15:23:47.7330</td>\n",
       "      <td>2020-02-01 14:29:06.2630</td>\n",
       "      <td>400.0</td>\n",
       "      <td>Buchanan St at North Point St</td>\n",
       "      <td>37.804272</td>\n",
       "      <td>-122.433537</td>\n",
       "      <td>400.0</td>\n",
       "      <td>Buchanan St at North Point St</td>\n",
       "      <td>37.804272</td>\n",
       "      <td>-122.433537</td>\n",
       "      <td>13052</td>\n",
       "      <td>Customer</td>\n",
       "      <td>NaN</td>\n",
       "    </tr>\n",
       "    <tr>\n",
       "      <th>1</th>\n",
       "      <td>68239</td>\n",
       "      <td>2020-01-31 15:40:31.6160</td>\n",
       "      <td>2020-02-01 10:37:51.0000</td>\n",
       "      <td>99.0</td>\n",
       "      <td>Folsom St at 15th St</td>\n",
       "      <td>37.767037</td>\n",
       "      <td>-122.415443</td>\n",
       "      <td>99.0</td>\n",
       "      <td>Folsom St at 15th St</td>\n",
       "      <td>37.767037</td>\n",
       "      <td>-122.415443</td>\n",
       "      <td>12235</td>\n",
       "      <td>Subscriber</td>\n",
       "      <td>NaN</td>\n",
       "    </tr>\n",
       "    <tr>\n",
       "      <th>2</th>\n",
       "      <td>55407</td>\n",
       "      <td>2020-01-31 17:48:16.6350</td>\n",
       "      <td>2020-02-01 09:11:44.3170</td>\n",
       "      <td>197.0</td>\n",
       "      <td>El Embarcadero at Grand Ave</td>\n",
       "      <td>37.808848</td>\n",
       "      <td>-122.249680</td>\n",
       "      <td>197.0</td>\n",
       "      <td>El Embarcadero at Grand Ave</td>\n",
       "      <td>37.808848</td>\n",
       "      <td>-122.249680</td>\n",
       "      <td>12822</td>\n",
       "      <td>Customer</td>\n",
       "      <td>NaN</td>\n",
       "    </tr>\n",
       "    <tr>\n",
       "      <th>3</th>\n",
       "      <td>54929</td>\n",
       "      <td>2020-01-31 17:53:03.4130</td>\n",
       "      <td>2020-02-01 09:08:32.6340</td>\n",
       "      <td>197.0</td>\n",
       "      <td>El Embarcadero at Grand Ave</td>\n",
       "      <td>37.808848</td>\n",
       "      <td>-122.249680</td>\n",
       "      <td>197.0</td>\n",
       "      <td>El Embarcadero at Grand Ave</td>\n",
       "      <td>37.808848</td>\n",
       "      <td>-122.249680</td>\n",
       "      <td>11705</td>\n",
       "      <td>Customer</td>\n",
       "      <td>NaN</td>\n",
       "    </tr>\n",
       "    <tr>\n",
       "      <th>4</th>\n",
       "      <td>55700</td>\n",
       "      <td>2020-01-31 17:12:33.4600</td>\n",
       "      <td>2020-02-01 08:40:53.6460</td>\n",
       "      <td>12.0</td>\n",
       "      <td>Pier 1/2 at The Embarcadero</td>\n",
       "      <td>37.796389</td>\n",
       "      <td>-122.394586</td>\n",
       "      <td>371.0</td>\n",
       "      <td>Lombard St at Columbus Ave</td>\n",
       "      <td>37.802746</td>\n",
       "      <td>-122.413579</td>\n",
       "      <td>3673</td>\n",
       "      <td>Customer</td>\n",
       "      <td>NaN</td>\n",
       "    </tr>\n",
       "    <tr>\n",
       "      <th>...</th>\n",
       "      <td>...</td>\n",
       "      <td>...</td>\n",
       "      <td>...</td>\n",
       "      <td>...</td>\n",
       "      <td>...</td>\n",
       "      <td>...</td>\n",
       "      <td>...</td>\n",
       "      <td>...</td>\n",
       "      <td>...</td>\n",
       "      <td>...</td>\n",
       "      <td>...</td>\n",
       "      <td>...</td>\n",
       "      <td>...</td>\n",
       "      <td>...</td>\n",
       "    </tr>\n",
       "    <tr>\n",
       "      <th>905002</th>\n",
       "      <td>61</td>\n",
       "      <td>2020-04-01 10:42:35</td>\n",
       "      <td>2020-04-01 10:43:37</td>\n",
       "      <td>NaN</td>\n",
       "      <td>NaN</td>\n",
       "      <td>37.848493</td>\n",
       "      <td>-122.265797</td>\n",
       "      <td>NaN</td>\n",
       "      <td>NaN</td>\n",
       "      <td>37.848476</td>\n",
       "      <td>-122.265779</td>\n",
       "      <td>999960</td>\n",
       "      <td>Subscriber</td>\n",
       "      <td>app</td>\n",
       "    </tr>\n",
       "    <tr>\n",
       "      <th>905003</th>\n",
       "      <td>78</td>\n",
       "      <td>2020-03-18 17:10:42</td>\n",
       "      <td>2020-03-18 17:12:01</td>\n",
       "      <td>NaN</td>\n",
       "      <td>NaN</td>\n",
       "      <td>37.848499</td>\n",
       "      <td>-122.265794</td>\n",
       "      <td>NaN</td>\n",
       "      <td>NaN</td>\n",
       "      <td>37.848477</td>\n",
       "      <td>-122.265815</td>\n",
       "      <td>999960</td>\n",
       "      <td>Subscriber</td>\n",
       "      <td>app</td>\n",
       "    </tr>\n",
       "    <tr>\n",
       "      <th>905004</th>\n",
       "      <td>122</td>\n",
       "      <td>2020-04-01 13:32:28</td>\n",
       "      <td>2020-04-01 13:34:31</td>\n",
       "      <td>NaN</td>\n",
       "      <td>NaN</td>\n",
       "      <td>37.848507</td>\n",
       "      <td>-122.266010</td>\n",
       "      <td>NaN</td>\n",
       "      <td>NaN</td>\n",
       "      <td>37.848485</td>\n",
       "      <td>-122.266063</td>\n",
       "      <td>633095</td>\n",
       "      <td>Subscriber</td>\n",
       "      <td>app</td>\n",
       "    </tr>\n",
       "    <tr>\n",
       "      <th>905005</th>\n",
       "      <td>340</td>\n",
       "      <td>2020-04-01 13:07:34</td>\n",
       "      <td>2020-04-01 13:13:14</td>\n",
       "      <td>NaN</td>\n",
       "      <td>NaN</td>\n",
       "      <td>37.848530</td>\n",
       "      <td>-122.266013</td>\n",
       "      <td>NaN</td>\n",
       "      <td>NaN</td>\n",
       "      <td>37.848497</td>\n",
       "      <td>-122.266029</td>\n",
       "      <td>633095</td>\n",
       "      <td>Subscriber</td>\n",
       "      <td>app</td>\n",
       "    </tr>\n",
       "    <tr>\n",
       "      <th>905006</th>\n",
       "      <td>333</td>\n",
       "      <td>2020-03-23 16:39:57</td>\n",
       "      <td>2020-03-23 16:45:30</td>\n",
       "      <td>NaN</td>\n",
       "      <td>NaN</td>\n",
       "      <td>37.848625</td>\n",
       "      <td>-122.266660</td>\n",
       "      <td>NaN</td>\n",
       "      <td>NaN</td>\n",
       "      <td>37.848446</td>\n",
       "      <td>-122.266022</td>\n",
       "      <td>633095</td>\n",
       "      <td>Subscriber</td>\n",
       "      <td>app</td>\n",
       "    </tr>\n",
       "  </tbody>\n",
       "</table>\n",
       "<p>905007 rows × 14 columns</p>\n",
       "</div>"
      ],
      "text/plain": [
       "        duration_sec                start_time                  end_time  \\\n",
       "0              83118  2020-01-31 15:23:47.7330  2020-02-01 14:29:06.2630   \n",
       "1              68239  2020-01-31 15:40:31.6160  2020-02-01 10:37:51.0000   \n",
       "2              55407  2020-01-31 17:48:16.6350  2020-02-01 09:11:44.3170   \n",
       "3              54929  2020-01-31 17:53:03.4130  2020-02-01 09:08:32.6340   \n",
       "4              55700  2020-01-31 17:12:33.4600  2020-02-01 08:40:53.6460   \n",
       "...              ...                       ...                       ...   \n",
       "905002            61       2020-04-01 10:42:35       2020-04-01 10:43:37   \n",
       "905003            78       2020-03-18 17:10:42       2020-03-18 17:12:01   \n",
       "905004           122       2020-04-01 13:32:28       2020-04-01 13:34:31   \n",
       "905005           340       2020-04-01 13:07:34       2020-04-01 13:13:14   \n",
       "905006           333       2020-03-23 16:39:57       2020-03-23 16:45:30   \n",
       "\n",
       "        start_station_id             start_station_name  \\\n",
       "0                  400.0  Buchanan St at North Point St   \n",
       "1                   99.0           Folsom St at 15th St   \n",
       "2                  197.0    El Embarcadero at Grand Ave   \n",
       "3                  197.0    El Embarcadero at Grand Ave   \n",
       "4                   12.0    Pier 1/2 at The Embarcadero   \n",
       "...                  ...                            ...   \n",
       "905002               NaN                            NaN   \n",
       "905003               NaN                            NaN   \n",
       "905004               NaN                            NaN   \n",
       "905005               NaN                            NaN   \n",
       "905006               NaN                            NaN   \n",
       "\n",
       "        start_station_latitude  start_station_longitude  end_station_id  \\\n",
       "0                    37.804272              -122.433537           400.0   \n",
       "1                    37.767037              -122.415443            99.0   \n",
       "2                    37.808848              -122.249680           197.0   \n",
       "3                    37.808848              -122.249680           197.0   \n",
       "4                    37.796389              -122.394586           371.0   \n",
       "...                        ...                      ...             ...   \n",
       "905002               37.848493              -122.265797             NaN   \n",
       "905003               37.848499              -122.265794             NaN   \n",
       "905004               37.848507              -122.266010             NaN   \n",
       "905005               37.848530              -122.266013             NaN   \n",
       "905006               37.848625              -122.266660             NaN   \n",
       "\n",
       "                     end_station_name  end_station_latitude  \\\n",
       "0       Buchanan St at North Point St             37.804272   \n",
       "1                Folsom St at 15th St             37.767037   \n",
       "2         El Embarcadero at Grand Ave             37.808848   \n",
       "3         El Embarcadero at Grand Ave             37.808848   \n",
       "4          Lombard St at Columbus Ave             37.802746   \n",
       "...                               ...                   ...   \n",
       "905002                            NaN             37.848476   \n",
       "905003                            NaN             37.848477   \n",
       "905004                            NaN             37.848485   \n",
       "905005                            NaN             37.848497   \n",
       "905006                            NaN             37.848446   \n",
       "\n",
       "        end_station_longitude  bike_id   user_type rental_access_method  \n",
       "0                 -122.433537    13052    Customer                  NaN  \n",
       "1                 -122.415443    12235  Subscriber                  NaN  \n",
       "2                 -122.249680    12822    Customer                  NaN  \n",
       "3                 -122.249680    11705    Customer                  NaN  \n",
       "4                 -122.413579     3673    Customer                  NaN  \n",
       "...                       ...      ...         ...                  ...  \n",
       "905002            -122.265779   999960  Subscriber                  app  \n",
       "905003            -122.265815   999960  Subscriber                  app  \n",
       "905004            -122.266063   633095  Subscriber                  app  \n",
       "905005            -122.266029   633095  Subscriber                  app  \n",
       "905006            -122.266022   633095  Subscriber                  app  \n",
       "\n",
       "[905007 rows x 14 columns]"
      ]
     },
     "execution_count": 4,
     "metadata": {},
     "output_type": "execute_result"
    }
   ],
   "source": [
    "print(\"2017 dataset has \",df.shape[0],\" rows and \",df.shape[1],\" columns\")\n",
    "df"
   ]
  },
  {
   "cell_type": "code",
   "execution_count": 5,
   "metadata": {
    "scrolled": false
   },
   "outputs": [
    {
     "name": "stdout",
     "output_type": "stream",
     "text": [
      "<class 'pandas.core.frame.DataFrame'>\n",
      "RangeIndex: 905007 entries, 0 to 905006\n",
      "Data columns (total 14 columns):\n",
      " #   Column                   Non-Null Count   Dtype  \n",
      "---  ------                   --------------   -----  \n",
      " 0   duration_sec             905007 non-null  int64  \n",
      " 1   start_time               905007 non-null  object \n",
      " 2   end_time                 905007 non-null  object \n",
      " 3   start_station_id         418705 non-null  float64\n",
      " 4   start_station_name       419938 non-null  object \n",
      " 5   start_station_latitude   905007 non-null  float64\n",
      " 6   start_station_longitude  905007 non-null  float64\n",
      " 7   end_station_id           419225 non-null  float64\n",
      " 8   end_station_name         420499 non-null  object \n",
      " 9   end_station_latitude     905007 non-null  float64\n",
      " 10  end_station_longitude    905007 non-null  float64\n",
      " 11  bike_id                  905007 non-null  int64  \n",
      " 12  user_type                905007 non-null  object \n",
      " 13  rental_access_method     617858 non-null  object \n",
      "dtypes: float64(6), int64(2), object(6)\n",
      "memory usage: 96.7+ MB\n"
     ]
    }
   ],
   "source": [
    "df.info()"
   ]
  },
  {
   "cell_type": "code",
   "execution_count": 6,
   "metadata": {},
   "outputs": [
    {
     "data": {
      "text/plain": [
       "61"
      ]
     },
     "execution_count": 6,
     "metadata": {},
     "output_type": "execute_result"
    }
   ],
   "source": [
    "((df.start_station_latitude == 0)|(df.start_station_longitude == 0)|(df.end_station_latitude == 0)|(df.end_station_longitude == 0)).sum()"
   ]
  },
  {
   "cell_type": "markdown",
   "metadata": {},
   "source": [
    "**Notes**:\n",
    "* No missing values.\n",
    "* There are some columns we might not use in the analysis.\n",
    "* The columns of `start_station_latitude`,`start_station_longitude`,`end_station_latitude`, `end_station_logitude` missing values.\n",
    "* `start_time`,`end_time` datatypes should be changed to timestamp.\n",
    "* `start_station_id`, `end_station_id` should be changed to object(string).\n",
    "* The dtype of the column `user_type` is object."
   ]
  },
  {
   "cell_type": "code",
   "execution_count": 7,
   "metadata": {
    "scrolled": true
   },
   "outputs": [
    {
     "data": {
      "text/plain": [
       "Subscriber    544696\n",
       "Customer      360311\n",
       "Name: user_type, dtype: int64"
      ]
     },
     "execution_count": 7,
     "metadata": {},
     "output_type": "execute_result"
    }
   ],
   "source": [
    "df.user_type.value_counts()"
   ]
  },
  {
   "cell_type": "code",
   "execution_count": 8,
   "metadata": {},
   "outputs": [
    {
     "data": {
      "text/plain": [
       "app        570471\n",
       "clipper     47387\n",
       "Name: rental_access_method, dtype: int64"
      ]
     },
     "execution_count": 8,
     "metadata": {},
     "output_type": "execute_result"
    }
   ],
   "source": [
    "df.rental_access_method.value_counts()"
   ]
  },
  {
   "cell_type": "code",
   "execution_count": 9,
   "metadata": {},
   "outputs": [
    {
     "data": {
      "text/plain": [
       "7512"
      ]
     },
     "execution_count": 9,
     "metadata": {},
     "output_type": "execute_result"
    }
   ],
   "source": [
    "df.duplicated().sum()"
   ]
  },
  {
   "cell_type": "code",
   "execution_count": 10,
   "metadata": {},
   "outputs": [
    {
     "data": {
      "text/plain": [
       "10233"
      ]
     },
     "execution_count": 10,
     "metadata": {},
     "output_type": "execute_result"
    }
   ],
   "source": [
    "df.bike_id.nunique()"
   ]
  },
  {
   "cell_type": "code",
   "execution_count": 11,
   "metadata": {
    "scrolled": true
   },
   "outputs": [
    {
     "data": {
      "text/plain": [
       "0"
      ]
     },
     "execution_count": 11,
     "metadata": {},
     "output_type": "execute_result"
    }
   ],
   "source": [
    "(df.duration_sec == 0).sum()"
   ]
  },
  {
   "cell_type": "code",
   "execution_count": 12,
   "metadata": {},
   "outputs": [
    {
     "data": {
      "text/plain": [
       "<matplotlib.axes._subplots.AxesSubplot at 0x7fd65762dbd0>"
      ]
     },
     "execution_count": 12,
     "metadata": {},
     "output_type": "execute_result"
    },
    {
     "data": {
      "image/png": "[encoded data removed]",
      "text/plain": [
       "<Figure size 432x288 with 1 Axes>"
      ]
     },
     "metadata": {
      "needs_background": "light"
     },
     "output_type": "display_data"
    }
   ],
   "source": [
    "sb.heatmap(df.isnull(), cbar=False)"
   ]
  },
  {
   "cell_type": "markdown",
   "metadata": {},
   "source": [
    "### Assessment Points\n",
    "\n",
    "**Quality issues**\n",
    "\n",
    "   - The data types of `start_time`, `end_time` are in string format not in timestamp.\n",
    "   - The data types of `user_type`,`rental_access_method` are in object string format not category.\n",
    "   - Missing values in `rental_access_method`<br/>\n",
    "   - The columns of `start_station_latitude`,`start_station_longitude`,`end_station_latitude`, `end_station_logitude` have some 0.00 values.\n",
    "\n",
    "**Tidiness issues**\n",
    "   - Add columns that seperate, months, days, hours, minutes\n",
    "   - Unused columns including `start_station_id`, `start_station_name`, `end_station_id`,`end_station_id`,`unnamed`."
   ]
  },
  {
   "cell_type": "markdown",
   "metadata": {},
   "source": [
    "### Cleaning Data"
   ]
  },
  {
   "cell_type": "code",
   "execution_count": 13,
   "metadata": {},
   "outputs": [],
   "source": [
    "df_clean=df.copy()"
   ]
  },
  {
   "cell_type": "markdown",
   "metadata": {},
   "source": [
    "**Quality issue:** The data types of`start_time`, `end_time` are in string format not in timestamp. Also the data types of `user_type`,`rental_access_methof` are in object string format not category.<br/>\n",
    "\n",
    "**Define**\n",
    "\n",
    "> * Change the data types of `start_time`, `end_time` from string format to timestamp.\n",
    "* The data types of `user_type`,`rental_access_methof` from string to category.\n",
    "\n",
    "**Code**"
   ]
  },
  {
   "cell_type": "code",
   "execution_count": 14,
   "metadata": {},
   "outputs": [],
   "source": [
    "df_clean.start_time = pd.to_datetime(df.start_time)\n",
    "df_clean.end_time = pd.to_datetime(df.end_time)"
   ]
  },
  {
   "cell_type": "code",
   "execution_count": 15,
   "metadata": {},
   "outputs": [],
   "source": [
    "df_clean.user_type = df_clean.user_type.astype('category')\n",
    "df_clean.rental_access_method = df_clean.rental_access_method.astype('category')"
   ]
  },
  {
   "cell_type": "markdown",
   "metadata": {},
   "source": [
    "**Test**"
   ]
  },
  {
   "cell_type": "code",
   "execution_count": 16,
   "metadata": {},
   "outputs": [
    {
     "name": "stdout",
     "output_type": "stream",
     "text": [
      "<class 'pandas.core.frame.DataFrame'>\n",
      "RangeIndex: 905007 entries, 0 to 905006\n",
      "Data columns (total 14 columns):\n",
      " #   Column                   Non-Null Count   Dtype         \n",
      "---  ------                   --------------   -----         \n",
      " 0   duration_sec             905007 non-null  int64         \n",
      " 1   start_time               905007 non-null  datetime64[ns]\n",
      " 2   end_time                 905007 non-null  datetime64[ns]\n",
      " 3   start_station_id         418705 non-null  float64       \n",
      " 4   start_station_name       419938 non-null  object        \n",
      " 5   start_station_latitude   905007 non-null  float64       \n",
      " 6   start_station_longitude  905007 non-null  float64       \n",
      " 7   end_station_id           419225 non-null  float64       \n",
      " 8   end_station_name         420499 non-null  object        \n",
      " 9   end_station_latitude     905007 non-null  float64       \n",
      " 10  end_station_longitude    905007 non-null  float64       \n",
      " 11  bike_id                  905007 non-null  int64         \n",
      " 12  user_type                905007 non-null  category      \n",
      " 13  rental_access_method     617858 non-null  category      \n",
      "dtypes: category(2), datetime64[ns](2), float64(6), int64(2), object(2)\n",
      "memory usage: 84.6+ MB\n"
     ]
    }
   ],
   "source": [
    "df_clean.info()"
   ]
  },
  {
   "cell_type": "code",
   "execution_count": 17,
   "metadata": {},
   "outputs": [
    {
     "data": {
      "text/plain": [
       "duration_sec                        int64\n",
       "start_time                 datetime64[ns]\n",
       "end_time                   datetime64[ns]\n",
       "start_station_id                  float64\n",
       "start_station_name                 object\n",
       "start_station_latitude            float64\n",
       "start_station_longitude           float64\n",
       "end_station_id                    float64\n",
       "end_station_name                   object\n",
       "end_station_latitude              float64\n",
       "end_station_longitude             float64\n",
       "bike_id                             int64\n",
       "user_type                        category\n",
       "rental_access_method             category\n",
       "dtype: object"
      ]
     },
     "execution_count": 17,
     "metadata": {},
     "output_type": "execute_result"
    }
   ],
   "source": [
    "df_clean.dtypes"
   ]
  },
  {
   "cell_type": "markdown",
   "metadata": {},
   "source": [
    "**Quality issue:** Missing values in rental_access_method.<br/>\n",
    "\n",
    "**Define**\n",
    "\n",
    "> * Drop records that has null values in `rental_access_method`.\n",
    "* other missing values in start/end station id and name columns will not be used so we will not delete any records because we are dropping the columns.\n",
    "\n",
    "**Code**"
   ]
  },
  {
   "cell_type": "code",
   "execution_count": 18,
   "metadata": {},
   "outputs": [],
   "source": [
    "null_access = df[df_clean.rental_access_method.isna()]\n",
    "df_clean.drop(null_access.index,inplace=True)"
   ]
  },
  {
   "cell_type": "markdown",
   "metadata": {},
   "source": [
    "**Test**"
   ]
  },
  {
   "cell_type": "code",
   "execution_count": 19,
   "metadata": {},
   "outputs": [
    {
     "data": {
      "text/plain": [
       "0"
      ]
     },
     "execution_count": 19,
     "metadata": {},
     "output_type": "execute_result"
    }
   ],
   "source": [
    "df_clean.rental_access_method.isna().sum()"
   ]
  },
  {
   "cell_type": "code",
   "execution_count": 20,
   "metadata": {
    "scrolled": false
   },
   "outputs": [
    {
     "name": "stdout",
     "output_type": "stream",
     "text": [
      "<class 'pandas.core.frame.DataFrame'>\n",
      "Int64Index: 617858 entries, 110108 to 905006\n",
      "Data columns (total 14 columns):\n",
      " #   Column                   Non-Null Count   Dtype         \n",
      "---  ------                   --------------   -----         \n",
      " 0   duration_sec             617858 non-null  int64         \n",
      " 1   start_time               617858 non-null  datetime64[ns]\n",
      " 2   end_time                 617858 non-null  datetime64[ns]\n",
      " 3   start_station_id         131556 non-null  float64       \n",
      " 4   start_station_name       132789 non-null  object        \n",
      " 5   start_station_latitude   617858 non-null  float64       \n",
      " 6   start_station_longitude  617858 non-null  float64       \n",
      " 7   end_station_id           132076 non-null  float64       \n",
      " 8   end_station_name         133350 non-null  object        \n",
      " 9   end_station_latitude     617858 non-null  float64       \n",
      " 10  end_station_longitude    617858 non-null  float64       \n",
      " 11  bike_id                  617858 non-null  int64         \n",
      " 12  user_type                617858 non-null  category      \n",
      " 13  rental_access_method     617858 non-null  category      \n",
      "dtypes: category(2), datetime64[ns](2), float64(6), int64(2), object(2)\n",
      "memory usage: 62.5+ MB\n"
     ]
    }
   ],
   "source": [
    "df_clean.info()"
   ]
  },
  {
   "cell_type": "markdown",
   "metadata": {},
   "source": [
    "**Quality issue:** The columns of `start_station_latitude`,`start_station_longitude`,`end_station_latitude`, `end_station_logitude` have some 0.00 values..<br/>\n",
    "\n",
    "**Define**\n",
    "\n",
    "> * Drop records that has null values. <br/>\n",
    "Note: other missing values in start/end station id and name columns will not be used so we will not delete any records because we are dropping the columns.\n",
    "\n",
    "**Code**"
   ]
  },
  {
   "cell_type": "code",
   "execution_count": 21,
   "metadata": {
    "scrolled": false
   },
   "outputs": [],
   "source": [
    "cond=df_clean[((df_clean.start_station_latitude == 0)|(df_clean.start_station_longitude == 0)|(df_clean.end_station_latitude == 0)|(df_clean.end_station_longitude == 0))]"
   ]
  },
  {
   "cell_type": "code",
   "execution_count": 22,
   "metadata": {},
   "outputs": [],
   "source": [
    "df_clean.drop(cond.index, inplace=True)"
   ]
  },
  {
   "cell_type": "markdown",
   "metadata": {},
   "source": [
    "**Test**"
   ]
  },
  {
   "cell_type": "code",
   "execution_count": 23,
   "metadata": {},
   "outputs": [
    {
     "data": {
      "text/plain": [
       "0"
      ]
     },
     "execution_count": 23,
     "metadata": {},
     "output_type": "execute_result"
    }
   ],
   "source": [
    "((df_clean.start_station_latitude == 0)|(df_clean.start_station_longitude == 0)|(df_clean.end_station_latitude == 0)|(df_clean.end_station_longitude == 0)).sum()"
   ]
  },
  {
   "cell_type": "code",
   "execution_count": 24,
   "metadata": {},
   "outputs": [
    {
     "data": {
      "text/plain": [
       "(617823, 14)"
      ]
     },
     "execution_count": 24,
     "metadata": {},
     "output_type": "execute_result"
    }
   ],
   "source": [
    "df_clean.shape"
   ]
  },
  {
   "cell_type": "markdown",
   "metadata": {},
   "source": [
    "**Tidiness issue:** Unused columns including `start_station_id`, `start_station_name`, `end_station_id`,`end_station_id`.<br/>\n",
    "\n",
    "**Define**\n",
    "\n",
    "> * drop the unused columns.\n",
    "\n",
    "**Code**"
   ]
  },
  {
   "cell_type": "code",
   "execution_count": 25,
   "metadata": {},
   "outputs": [],
   "source": [
    "df_clean.drop(['start_station_id','start_station_name','end_station_id','end_station_name'], axis=1, inplace=True)"
   ]
  },
  {
   "cell_type": "markdown",
   "metadata": {},
   "source": [
    "**Test**"
   ]
  },
  {
   "cell_type": "code",
   "execution_count": 26,
   "metadata": {},
   "outputs": [
    {
     "data": {
      "text/plain": [
       "Index(['duration_sec', 'start_time', 'end_time', 'start_station_latitude',\n",
       "       'start_station_longitude', 'end_station_latitude',\n",
       "       'end_station_longitude', 'bike_id', 'user_type',\n",
       "       'rental_access_method'],\n",
       "      dtype='object')"
      ]
     },
     "execution_count": 26,
     "metadata": {},
     "output_type": "execute_result"
    }
   ],
   "source": [
    "df_clean.columns"
   ]
  },
  {
   "cell_type": "code",
   "execution_count": 27,
   "metadata": {
    "scrolled": true
   },
   "outputs": [
    {
     "name": "stdout",
     "output_type": "stream",
     "text": [
      "<class 'pandas.core.frame.DataFrame'>\n",
      "Int64Index: 617823 entries, 110116 to 905006\n",
      "Data columns (total 10 columns):\n",
      " #   Column                   Non-Null Count   Dtype         \n",
      "---  ------                   --------------   -----         \n",
      " 0   duration_sec             617823 non-null  int64         \n",
      " 1   start_time               617823 non-null  datetime64[ns]\n",
      " 2   end_time                 617823 non-null  datetime64[ns]\n",
      " 3   start_station_latitude   617823 non-null  float64       \n",
      " 4   start_station_longitude  617823 non-null  float64       \n",
      " 5   end_station_latitude     617823 non-null  float64       \n",
      " 6   end_station_longitude    617823 non-null  float64       \n",
      " 7   bike_id                  617823 non-null  int64         \n",
      " 8   user_type                617823 non-null  category      \n",
      " 9   rental_access_method     617823 non-null  category      \n",
      "dtypes: category(2), datetime64[ns](2), float64(4), int64(2)\n",
      "memory usage: 43.6 MB\n"
     ]
    }
   ],
   "source": [
    "df_clean.info()"
   ]
  },
  {
   "cell_type": "markdown",
   "metadata": {},
   "source": [
    "**Tidiness issue:** Add columns:`month`, `dayofweek`, `hour`,`duration_min`.<br/>\n",
    "\n",
    "**Define**\n",
    "\n",
    "> * Add the required columns.\n",
    "\n",
    "**Code**"
   ]
  },
  {
   "cell_type": "code",
   "execution_count": 28,
   "metadata": {},
   "outputs": [],
   "source": [
    "df_clean['duration_min']=(df_clean.duration_sec/60).astype(int)"
   ]
  },
  {
   "cell_type": "code",
   "execution_count": 29,
   "metadata": {},
   "outputs": [
    {
     "data": {
      "text/html": [
       "<div>\n",
       "<style scoped>\n",
       "    .dataframe tbody tr th:only-of-type {\n",
       "        vertical-align: middle;\n",
       "    }\n",
       "\n",
       "    .dataframe tbody tr th {\n",
       "        vertical-align: top;\n",
       "    }\n",
       "\n",
       "    .dataframe thead th {\n",
       "        text-align: right;\n",
       "    }\n",
       "</style>\n",
       "<table border=\"1\" class=\"dataframe\">\n",
       "  <thead>\n",
       "    <tr style=\"text-align: right;\">\n",
       "      <th></th>\n",
       "      <th>duration_sec</th>\n",
       "      <th>start_time</th>\n",
       "      <th>end_time</th>\n",
       "      <th>start_station_latitude</th>\n",
       "      <th>start_station_longitude</th>\n",
       "      <th>end_station_latitude</th>\n",
       "      <th>end_station_longitude</th>\n",
       "      <th>bike_id</th>\n",
       "      <th>user_type</th>\n",
       "      <th>rental_access_method</th>\n",
       "      <th>duration_min</th>\n",
       "      <th>start_datetime</th>\n",
       "      <th>end_datetime</th>\n",
       "    </tr>\n",
       "  </thead>\n",
       "  <tbody>\n",
       "    <tr>\n",
       "      <th>110116</th>\n",
       "      <td>1600</td>\n",
       "      <td>2020-01-18 19:03:45</td>\n",
       "      <td>2020-01-18 19:30:25</td>\n",
       "      <td>37.275291</td>\n",
       "      <td>-121.891856</td>\n",
       "      <td>37.28027</td>\n",
       "      <td>-121.908048</td>\n",
       "      <td>330770</td>\n",
       "      <td>Customer</td>\n",
       "      <td>app</td>\n",
       "      <td>26</td>\n",
       "      <td>2020-01-18 19:03:45</td>\n",
       "      <td>2020-01-18 19:30:25</td>\n",
       "    </tr>\n",
       "  </tbody>\n",
       "</table>\n",
       "</div>"
      ],
      "text/plain": [
       "        duration_sec          start_time            end_time  \\\n",
       "110116          1600 2020-01-18 19:03:45 2020-01-18 19:30:25   \n",
       "\n",
       "        start_station_latitude  start_station_longitude  end_station_latitude  \\\n",
       "110116               37.275291              -121.891856              37.28027   \n",
       "\n",
       "        end_station_longitude  bike_id user_type rental_access_method  \\\n",
       "110116            -121.908048   330770  Customer                  app   \n",
       "\n",
       "        duration_min      start_datetime        end_datetime  \n",
       "110116            26 2020-01-18 19:03:45 2020-01-18 19:30:25  "
      ]
     },
     "execution_count": 29,
     "metadata": {},
     "output_type": "execute_result"
    }
   ],
   "source": [
    "#i will make a copy \n",
    "df_clean['start_datetime']=pd.to_datetime(df_clean.start_time, errors = 'coerce',format = '%Y-%m-%d')\n",
    "df_clean['end_datetime']=pd.to_datetime(df_clean.end_time, errors = 'coerce',format = '%Y-%m-%d')\n",
    "df_clean.head(1)"
   ]
  },
  {
   "cell_type": "code",
   "execution_count": 30,
   "metadata": {},
   "outputs": [
    {
     "data": {
      "text/plain": [
       "duration_sec                        int64\n",
       "start_time                         object\n",
       "end_time                           object\n",
       "start_station_latitude            float64\n",
       "start_station_longitude           float64\n",
       "end_station_latitude              float64\n",
       "end_station_longitude             float64\n",
       "bike_id                             int64\n",
       "user_type                        category\n",
       "rental_access_method             category\n",
       "duration_min                        int64\n",
       "start_datetime             datetime64[ns]\n",
       "end_datetime               datetime64[ns]\n",
       "start_date                         object\n",
       "end_date                           object\n",
       "dtype: object"
      ]
     },
     "execution_count": 30,
     "metadata": {},
     "output_type": "execute_result"
    }
   ],
   "source": [
    "#Seperate date and time\n",
    "df_clean.start_time=df_clean.start_datetime.dt.time\n",
    "df_clean['start_date']=df_clean.start_datetime.dt.date\n",
    "df_clean.end_time=df_clean.end_datetime.dt.time\n",
    "df_clean['end_date']=df_clean.end_datetime.dt.date\n",
    "df_clean.dtypes"
   ]
  },
  {
   "cell_type": "code",
   "execution_count": 31,
   "metadata": {},
   "outputs": [],
   "source": [
    "#Add the columns we need in our analysis \n",
    "df_clean['start_hour']=df_clean.start_datetime.dt.hour \n",
    "df_clean['end_hour']=df_clean.end_datetime.dt.hour\n",
    "df_clean['month']=df_clean.start_datetime.dt.strftime('%B')\n",
    "df_clean['dayofweek']=df_clean.start_datetime.dt.strftime('%a')"
   ]
  },
  {
   "cell_type": "code",
   "execution_count": 32,
   "metadata": {},
   "outputs": [],
   "source": [
    "#Drop the copy columns\n",
    "df_clean.drop(['start_datetime', 'end_datetime'], axis=1, inplace=True)"
   ]
  },
  {
   "cell_type": "markdown",
   "metadata": {},
   "source": [
    "**Test**"
   ]
  },
  {
   "cell_type": "code",
   "execution_count": 33,
   "metadata": {
    "scrolled": true
   },
   "outputs": [
    {
     "name": "stdout",
     "output_type": "stream",
     "text": [
      "<class 'pandas.core.frame.DataFrame'>\n",
      "Int64Index: 617823 entries, 110116 to 905006\n",
      "Data columns (total 17 columns):\n",
      " #   Column                   Non-Null Count   Dtype   \n",
      "---  ------                   --------------   -----   \n",
      " 0   duration_sec             617823 non-null  int64   \n",
      " 1   start_time               617823 non-null  object  \n",
      " 2   end_time                 617823 non-null  object  \n",
      " 3   start_station_latitude   617823 non-null  float64 \n",
      " 4   start_station_longitude  617823 non-null  float64 \n",
      " 5   end_station_latitude     617823 non-null  float64 \n",
      " 6   end_station_longitude    617823 non-null  float64 \n",
      " 7   bike_id                  617823 non-null  int64   \n",
      " 8   user_type                617823 non-null  category\n",
      " 9   rental_access_method     617823 non-null  category\n",
      " 10  duration_min             617823 non-null  int64   \n",
      " 11  start_date               617823 non-null  object  \n",
      " 12  end_date                 617823 non-null  object  \n",
      " 13  start_hour               617823 non-null  int64   \n",
      " 14  end_hour                 617823 non-null  int64   \n",
      " 15  month                    617823 non-null  object  \n",
      " 16  dayofweek                617823 non-null  object  \n",
      "dtypes: category(2), float64(4), int64(5), object(6)\n",
      "memory usage: 76.6+ MB\n"
     ]
    }
   ],
   "source": [
    "df_clean.info()"
   ]
  },
  {
   "cell_type": "code",
   "execution_count": 34,
   "metadata": {
    "scrolled": false
   },
   "outputs": [
    {
     "data": {
      "text/html": [
       "<div>\n",
       "<style scoped>\n",
       "    .dataframe tbody tr th:only-of-type {\n",
       "        vertical-align: middle;\n",
       "    }\n",
       "\n",
       "    .dataframe tbody tr th {\n",
       "        vertical-align: top;\n",
       "    }\n",
       "\n",
       "    .dataframe thead th {\n",
       "        text-align: right;\n",
       "    }\n",
       "</style>\n",
       "<table border=\"1\" class=\"dataframe\">\n",
       "  <thead>\n",
       "    <tr style=\"text-align: right;\">\n",
       "      <th></th>\n",
       "      <th>duration_sec</th>\n",
       "      <th>start_time</th>\n",
       "      <th>end_time</th>\n",
       "      <th>start_station_latitude</th>\n",
       "      <th>start_station_longitude</th>\n",
       "      <th>end_station_latitude</th>\n",
       "      <th>end_station_longitude</th>\n",
       "      <th>bike_id</th>\n",
       "      <th>user_type</th>\n",
       "      <th>rental_access_method</th>\n",
       "      <th>duration_min</th>\n",
       "      <th>start_date</th>\n",
       "      <th>end_date</th>\n",
       "      <th>start_hour</th>\n",
       "      <th>end_hour</th>\n",
       "      <th>month</th>\n",
       "      <th>dayofweek</th>\n",
       "    </tr>\n",
       "  </thead>\n",
       "  <tbody>\n",
       "    <tr>\n",
       "      <th>110116</th>\n",
       "      <td>1600</td>\n",
       "      <td>19:03:45</td>\n",
       "      <td>19:30:25</td>\n",
       "      <td>37.275291</td>\n",
       "      <td>-121.891856</td>\n",
       "      <td>37.280270</td>\n",
       "      <td>-121.908048</td>\n",
       "      <td>330770</td>\n",
       "      <td>Customer</td>\n",
       "      <td>app</td>\n",
       "      <td>26</td>\n",
       "      <td>2020-01-18</td>\n",
       "      <td>2020-01-18</td>\n",
       "      <td>19</td>\n",
       "      <td>19</td>\n",
       "      <td>January</td>\n",
       "      <td>Sat</td>\n",
       "    </tr>\n",
       "    <tr>\n",
       "      <th>110117</th>\n",
       "      <td>1938</td>\n",
       "      <td>17:32:53</td>\n",
       "      <td>18:05:12</td>\n",
       "      <td>37.279192</td>\n",
       "      <td>-121.835867</td>\n",
       "      <td>37.259106</td>\n",
       "      <td>-121.831157</td>\n",
       "      <td>605133</td>\n",
       "      <td>Customer</td>\n",
       "      <td>app</td>\n",
       "      <td>32</td>\n",
       "      <td>2020-01-25</td>\n",
       "      <td>2020-01-25</td>\n",
       "      <td>17</td>\n",
       "      <td>18</td>\n",
       "      <td>January</td>\n",
       "      <td>Sat</td>\n",
       "    </tr>\n",
       "    <tr>\n",
       "      <th>110118</th>\n",
       "      <td>2007</td>\n",
       "      <td>17:33:13</td>\n",
       "      <td>18:06:40</td>\n",
       "      <td>37.279202</td>\n",
       "      <td>-121.835868</td>\n",
       "      <td>37.258978</td>\n",
       "      <td>-121.831147</td>\n",
       "      <td>273769</td>\n",
       "      <td>Customer</td>\n",
       "      <td>app</td>\n",
       "      <td>33</td>\n",
       "      <td>2020-01-25</td>\n",
       "      <td>2020-01-25</td>\n",
       "      <td>17</td>\n",
       "      <td>18</td>\n",
       "      <td>January</td>\n",
       "      <td>Sat</td>\n",
       "    </tr>\n",
       "    <tr>\n",
       "      <th>110119</th>\n",
       "      <td>567</td>\n",
       "      <td>15:32:04</td>\n",
       "      <td>15:41:32</td>\n",
       "      <td>37.282298</td>\n",
       "      <td>-121.838755</td>\n",
       "      <td>37.292066</td>\n",
       "      <td>-121.832024</td>\n",
       "      <td>627622</td>\n",
       "      <td>Customer</td>\n",
       "      <td>app</td>\n",
       "      <td>9</td>\n",
       "      <td>2020-01-29</td>\n",
       "      <td>2020-01-29</td>\n",
       "      <td>15</td>\n",
       "      <td>15</td>\n",
       "      <td>January</td>\n",
       "      <td>Wed</td>\n",
       "    </tr>\n",
       "    <tr>\n",
       "      <th>110120</th>\n",
       "      <td>1107</td>\n",
       "      <td>17:41:38</td>\n",
       "      <td>18:00:05</td>\n",
       "      <td>37.283072</td>\n",
       "      <td>-121.832709</td>\n",
       "      <td>37.304321</td>\n",
       "      <td>-121.860995</td>\n",
       "      <td>627622</td>\n",
       "      <td>Customer</td>\n",
       "      <td>app</td>\n",
       "      <td>18</td>\n",
       "      <td>2020-01-30</td>\n",
       "      <td>2020-01-30</td>\n",
       "      <td>17</td>\n",
       "      <td>18</td>\n",
       "      <td>January</td>\n",
       "      <td>Thu</td>\n",
       "    </tr>\n",
       "  </tbody>\n",
       "</table>\n",
       "</div>"
      ],
      "text/plain": [
       "        duration_sec start_time  end_time  start_station_latitude  \\\n",
       "110116          1600   19:03:45  19:30:25               37.275291   \n",
       "110117          1938   17:32:53  18:05:12               37.279192   \n",
       "110118          2007   17:33:13  18:06:40               37.279202   \n",
       "110119           567   15:32:04  15:41:32               37.282298   \n",
       "110120          1107   17:41:38  18:00:05               37.283072   \n",
       "\n",
       "        start_station_longitude  end_station_latitude  end_station_longitude  \\\n",
       "110116              -121.891856             37.280270            -121.908048   \n",
       "110117              -121.835867             37.259106            -121.831157   \n",
       "110118              -121.835868             37.258978            -121.831147   \n",
       "110119              -121.838755             37.292066            -121.832024   \n",
       "110120              -121.832709             37.304321            -121.860995   \n",
       "\n",
       "        bike_id user_type rental_access_method  duration_min  start_date  \\\n",
       "110116   330770  Customer                  app            26  2020-01-18   \n",
       "110117   605133  Customer                  app            32  2020-01-25   \n",
       "110118   273769  Customer                  app            33  2020-01-25   \n",
       "110119   627622  Customer                  app             9  2020-01-29   \n",
       "110120   627622  Customer                  app            18  2020-01-30   \n",
       "\n",
       "          end_date  start_hour  end_hour    month dayofweek  \n",
       "110116  2020-01-18          19        19  January       Sat  \n",
       "110117  2020-01-25          17        18  January       Sat  \n",
       "110118  2020-01-25          17        18  January       Sat  \n",
       "110119  2020-01-29          15        15  January       Wed  \n",
       "110120  2020-01-30          17        18  January       Thu  "
      ]
     },
     "execution_count": 34,
     "metadata": {},
     "output_type": "execute_result"
    }
   ],
   "source": [
    "df_clean.head()"
   ]
  },
  {
   "cell_type": "markdown",
   "metadata": {},
   "source": [
    "**Tidiness issue:** Add column:`distance`.<br/>\n",
    "\n",
    "**Define**\n",
    "\n",
    "> * Calculate the distance betweem two pairs of longitude and latitude.\n",
    "* Add the required columns.\n",
    "\n",
    "**Code** [2]"
   ]
  },
  {
   "cell_type": "code",
   "execution_count": 35,
   "metadata": {},
   "outputs": [],
   "source": [
    "import math\n",
    "#https://gist.github.com/rochacbruno/2883505\n",
    "def distance(origin, destination):\n",
    "    lat1, lon1 = origin\n",
    "    lat2, lon2 = destination\n",
    "    radius = 6371 # km\n",
    "\n",
    "    dlat = math.radians(lat2-lat1)\n",
    "    dlon = math.radians(lon2-lon1)\n",
    "    a = math.sin(dlat/2) * math.sin(dlat/2) + math.cos(math.radians(lat1)) \\\n",
    "        * math.cos(math.radians(lat2)) * math.sin(dlon/2) * math.sin(dlon/2)\n",
    "    c = 2 * math.atan2(math.sqrt(a), math.sqrt(1-a))\n",
    "    d = radius * c\n",
    "\n",
    "    return d"
   ]
  },
  {
   "cell_type": "code",
   "execution_count": 36,
   "metadata": {},
   "outputs": [],
   "source": [
    "df_clean['distance_km'] = df_clean.apply(lambda x: distance((x['start_station_latitude'], x['start_station_longitude']), (x['end_station_latitude'], x['end_station_longitude'])), axis=1)"
   ]
  },
  {
   "cell_type": "code",
   "execution_count": 37,
   "metadata": {},
   "outputs": [],
   "source": [
    "df_clean.drop(['start_station_latitude', 'start_station_longitude', 'end_station_latitude', 'end_station_longitude'], axis=1, inplace=True)"
   ]
  },
  {
   "cell_type": "markdown",
   "metadata": {},
   "source": [
    "**Test**"
   ]
  },
  {
   "cell_type": "code",
   "execution_count": 38,
   "metadata": {},
   "outputs": [
    {
     "data": {
      "text/html": [
       "<div>\n",
       "<style scoped>\n",
       "    .dataframe tbody tr th:only-of-type {\n",
       "        vertical-align: middle;\n",
       "    }\n",
       "\n",
       "    .dataframe tbody tr th {\n",
       "        vertical-align: top;\n",
       "    }\n",
       "\n",
       "    .dataframe thead th {\n",
       "        text-align: right;\n",
       "    }\n",
       "</style>\n",
       "<table border=\"1\" class=\"dataframe\">\n",
       "  <thead>\n",
       "    <tr style=\"text-align: right;\">\n",
       "      <th></th>\n",
       "      <th>duration_sec</th>\n",
       "      <th>start_time</th>\n",
       "      <th>end_time</th>\n",
       "      <th>bike_id</th>\n",
       "      <th>user_type</th>\n",
       "      <th>rental_access_method</th>\n",
       "      <th>duration_min</th>\n",
       "      <th>start_date</th>\n",
       "      <th>end_date</th>\n",
       "      <th>start_hour</th>\n",
       "      <th>end_hour</th>\n",
       "      <th>month</th>\n",
       "      <th>dayofweek</th>\n",
       "      <th>distance_km</th>\n",
       "    </tr>\n",
       "  </thead>\n",
       "  <tbody>\n",
       "    <tr>\n",
       "      <th>110116</th>\n",
       "      <td>1600</td>\n",
       "      <td>19:03:45</td>\n",
       "      <td>19:30:25</td>\n",
       "      <td>330770</td>\n",
       "      <td>Customer</td>\n",
       "      <td>app</td>\n",
       "      <td>26</td>\n",
       "      <td>2020-01-18</td>\n",
       "      <td>2020-01-18</td>\n",
       "      <td>19</td>\n",
       "      <td>19</td>\n",
       "      <td>January</td>\n",
       "      <td>Sat</td>\n",
       "      <td>1.535881</td>\n",
       "    </tr>\n",
       "    <tr>\n",
       "      <th>110117</th>\n",
       "      <td>1938</td>\n",
       "      <td>17:32:53</td>\n",
       "      <td>18:05:12</td>\n",
       "      <td>605133</td>\n",
       "      <td>Customer</td>\n",
       "      <td>app</td>\n",
       "      <td>32</td>\n",
       "      <td>2020-01-25</td>\n",
       "      <td>2020-01-25</td>\n",
       "      <td>17</td>\n",
       "      <td>18</td>\n",
       "      <td>January</td>\n",
       "      <td>Sat</td>\n",
       "      <td>2.272008</td>\n",
       "    </tr>\n",
       "    <tr>\n",
       "      <th>110118</th>\n",
       "      <td>2007</td>\n",
       "      <td>17:33:13</td>\n",
       "      <td>18:06:40</td>\n",
       "      <td>273769</td>\n",
       "      <td>Customer</td>\n",
       "      <td>app</td>\n",
       "      <td>33</td>\n",
       "      <td>2020-01-25</td>\n",
       "      <td>2020-01-25</td>\n",
       "      <td>17</td>\n",
       "      <td>18</td>\n",
       "      <td>January</td>\n",
       "      <td>Sat</td>\n",
       "      <td>2.287324</td>\n",
       "    </tr>\n",
       "    <tr>\n",
       "      <th>110119</th>\n",
       "      <td>567</td>\n",
       "      <td>15:32:04</td>\n",
       "      <td>15:41:32</td>\n",
       "      <td>627622</td>\n",
       "      <td>Customer</td>\n",
       "      <td>app</td>\n",
       "      <td>9</td>\n",
       "      <td>2020-01-29</td>\n",
       "      <td>2020-01-29</td>\n",
       "      <td>15</td>\n",
       "      <td>15</td>\n",
       "      <td>January</td>\n",
       "      <td>Wed</td>\n",
       "      <td>1.238728</td>\n",
       "    </tr>\n",
       "    <tr>\n",
       "      <th>110120</th>\n",
       "      <td>1107</td>\n",
       "      <td>17:41:38</td>\n",
       "      <td>18:00:05</td>\n",
       "      <td>627622</td>\n",
       "      <td>Customer</td>\n",
       "      <td>app</td>\n",
       "      <td>18</td>\n",
       "      <td>2020-01-30</td>\n",
       "      <td>2020-01-30</td>\n",
       "      <td>17</td>\n",
       "      <td>18</td>\n",
       "      <td>January</td>\n",
       "      <td>Thu</td>\n",
       "      <td>3.441476</td>\n",
       "    </tr>\n",
       "  </tbody>\n",
       "</table>\n",
       "</div>"
      ],
      "text/plain": [
       "        duration_sec start_time  end_time  bike_id user_type  \\\n",
       "110116          1600   19:03:45  19:30:25   330770  Customer   \n",
       "110117          1938   17:32:53  18:05:12   605133  Customer   \n",
       "110118          2007   17:33:13  18:06:40   273769  Customer   \n",
       "110119           567   15:32:04  15:41:32   627622  Customer   \n",
       "110120          1107   17:41:38  18:00:05   627622  Customer   \n",
       "\n",
       "       rental_access_method  duration_min  start_date    end_date  start_hour  \\\n",
       "110116                  app            26  2020-01-18  2020-01-18          19   \n",
       "110117                  app            32  2020-01-25  2020-01-25          17   \n",
       "110118                  app            33  2020-01-25  2020-01-25          17   \n",
       "110119                  app             9  2020-01-29  2020-01-29          15   \n",
       "110120                  app            18  2020-01-30  2020-01-30          17   \n",
       "\n",
       "        end_hour    month dayofweek  distance_km  \n",
       "110116        19  January       Sat     1.535881  \n",
       "110117        18  January       Sat     2.272008  \n",
       "110118        18  January       Sat     2.287324  \n",
       "110119        15  January       Wed     1.238728  \n",
       "110120        18  January       Thu     3.441476  "
      ]
     },
     "execution_count": 38,
     "metadata": {},
     "output_type": "execute_result"
    }
   ],
   "source": [
    "df_clean.head()"
   ]
  },
  {
   "cell_type": "markdown",
   "metadata": {},
   "source": [
    "**Tidiness issue**: Columns arrangement is hard to read.<br/>\n",
    "**Define**\n",
    "> * Rearrange the columns to read easily \n",
    "\n",
    "**Code**"
   ]
  },
  {
   "cell_type": "code",
   "execution_count": 39,
   "metadata": {},
   "outputs": [],
   "source": [
    "df_clean=df_clean[['start_date', 'end_date', 'start_time', 'end_time', 'duration_sec', 'duration_min', 'start_hour', 'end_hour', 'distance_km','month', 'dayofweek', 'bike_id', 'user_type', 'rental_access_method']]"
   ]
  },
  {
   "cell_type": "markdown",
   "metadata": {},
   "source": [
    "**Test**"
   ]
  },
  {
   "cell_type": "code",
   "execution_count": 40,
   "metadata": {
    "scrolled": false
   },
   "outputs": [
    {
     "name": "stdout",
     "output_type": "stream",
     "text": [
      "<class 'pandas.core.frame.DataFrame'>\n",
      "Int64Index: 617823 entries, 110116 to 905006\n",
      "Data columns (total 14 columns):\n",
      " #   Column                Non-Null Count   Dtype   \n",
      "---  ------                --------------   -----   \n",
      " 0   start_date            617823 non-null  object  \n",
      " 1   end_date              617823 non-null  object  \n",
      " 2   start_time            617823 non-null  object  \n",
      " 3   end_time              617823 non-null  object  \n",
      " 4   duration_sec          617823 non-null  int64   \n",
      " 5   duration_min          617823 non-null  int64   \n",
      " 6   start_hour            617823 non-null  int64   \n",
      " 7   end_hour              617823 non-null  int64   \n",
      " 8   distance_km           617823 non-null  float64 \n",
      " 9   month                 617823 non-null  object  \n",
      " 10  dayofweek             617823 non-null  object  \n",
      " 11  bike_id               617823 non-null  int64   \n",
      " 12  user_type             617823 non-null  category\n",
      " 13  rental_access_method  617823 non-null  category\n",
      "dtypes: category(2), float64(1), int64(5), object(6)\n",
      "memory usage: 62.5+ MB\n"
     ]
    }
   ],
   "source": [
    "df_clean.info()"
   ]
  },
  {
   "cell_type": "markdown",
   "metadata": {},
   "source": [
    "**Tidiness issue**: The dataframe indices are from 110116 to 905006.<br/>\n",
    "**Define**\n",
    "> * Reset the indices from zero. [2]\n",
    "\n",
    "**Code**"
   ]
  },
  {
   "cell_type": "code",
   "execution_count": 41,
   "metadata": {
    "scrolled": false
   },
   "outputs": [],
   "source": [
    "df_clean.reset_index(drop=True, inplace=True)"
   ]
  },
  {
   "cell_type": "markdown",
   "metadata": {},
   "source": [
    "**Test**"
   ]
  },
  {
   "cell_type": "code",
   "execution_count": 42,
   "metadata": {
    "scrolled": false
   },
   "outputs": [
    {
     "data": {
      "text/html": [
       "<div>\n",
       "<style scoped>\n",
       "    .dataframe tbody tr th:only-of-type {\n",
       "        vertical-align: middle;\n",
       "    }\n",
       "\n",
       "    .dataframe tbody tr th {\n",
       "        vertical-align: top;\n",
       "    }\n",
       "\n",
       "    .dataframe thead th {\n",
       "        text-align: right;\n",
       "    }\n",
       "</style>\n",
       "<table border=\"1\" class=\"dataframe\">\n",
       "  <thead>\n",
       "    <tr style=\"text-align: right;\">\n",
       "      <th></th>\n",
       "      <th>start_date</th>\n",
       "      <th>end_date</th>\n",
       "      <th>start_time</th>\n",
       "      <th>end_time</th>\n",
       "      <th>duration_sec</th>\n",
       "      <th>duration_min</th>\n",
       "      <th>start_hour</th>\n",
       "      <th>end_hour</th>\n",
       "      <th>distance_km</th>\n",
       "      <th>month</th>\n",
       "      <th>dayofweek</th>\n",
       "      <th>bike_id</th>\n",
       "      <th>user_type</th>\n",
       "      <th>rental_access_method</th>\n",
       "    </tr>\n",
       "  </thead>\n",
       "  <tbody>\n",
       "    <tr>\n",
       "      <th>0</th>\n",
       "      <td>2020-01-18</td>\n",
       "      <td>2020-01-18</td>\n",
       "      <td>19:03:45</td>\n",
       "      <td>19:30:25</td>\n",
       "      <td>1600</td>\n",
       "      <td>26</td>\n",
       "      <td>19</td>\n",
       "      <td>19</td>\n",
       "      <td>1.535881</td>\n",
       "      <td>January</td>\n",
       "      <td>Sat</td>\n",
       "      <td>330770</td>\n",
       "      <td>Customer</td>\n",
       "      <td>app</td>\n",
       "    </tr>\n",
       "    <tr>\n",
       "      <th>1</th>\n",
       "      <td>2020-01-25</td>\n",
       "      <td>2020-01-25</td>\n",
       "      <td>17:32:53</td>\n",
       "      <td>18:05:12</td>\n",
       "      <td>1938</td>\n",
       "      <td>32</td>\n",
       "      <td>17</td>\n",
       "      <td>18</td>\n",
       "      <td>2.272008</td>\n",
       "      <td>January</td>\n",
       "      <td>Sat</td>\n",
       "      <td>605133</td>\n",
       "      <td>Customer</td>\n",
       "      <td>app</td>\n",
       "    </tr>\n",
       "    <tr>\n",
       "      <th>2</th>\n",
       "      <td>2020-01-25</td>\n",
       "      <td>2020-01-25</td>\n",
       "      <td>17:33:13</td>\n",
       "      <td>18:06:40</td>\n",
       "      <td>2007</td>\n",
       "      <td>33</td>\n",
       "      <td>17</td>\n",
       "      <td>18</td>\n",
       "      <td>2.287324</td>\n",
       "      <td>January</td>\n",
       "      <td>Sat</td>\n",
       "      <td>273769</td>\n",
       "      <td>Customer</td>\n",
       "      <td>app</td>\n",
       "    </tr>\n",
       "    <tr>\n",
       "      <th>3</th>\n",
       "      <td>2020-01-29</td>\n",
       "      <td>2020-01-29</td>\n",
       "      <td>15:32:04</td>\n",
       "      <td>15:41:32</td>\n",
       "      <td>567</td>\n",
       "      <td>9</td>\n",
       "      <td>15</td>\n",
       "      <td>15</td>\n",
       "      <td>1.238728</td>\n",
       "      <td>January</td>\n",
       "      <td>Wed</td>\n",
       "      <td>627622</td>\n",
       "      <td>Customer</td>\n",
       "      <td>app</td>\n",
       "    </tr>\n",
       "    <tr>\n",
       "      <th>4</th>\n",
       "      <td>2020-01-30</td>\n",
       "      <td>2020-01-30</td>\n",
       "      <td>17:41:38</td>\n",
       "      <td>18:00:05</td>\n",
       "      <td>1107</td>\n",
       "      <td>18</td>\n",
       "      <td>17</td>\n",
       "      <td>18</td>\n",
       "      <td>3.441476</td>\n",
       "      <td>January</td>\n",
       "      <td>Thu</td>\n",
       "      <td>627622</td>\n",
       "      <td>Customer</td>\n",
       "      <td>app</td>\n",
       "    </tr>\n",
       "    <tr>\n",
       "      <th>...</th>\n",
       "      <td>...</td>\n",
       "      <td>...</td>\n",
       "      <td>...</td>\n",
       "      <td>...</td>\n",
       "      <td>...</td>\n",
       "      <td>...</td>\n",
       "      <td>...</td>\n",
       "      <td>...</td>\n",
       "      <td>...</td>\n",
       "      <td>...</td>\n",
       "      <td>...</td>\n",
       "      <td>...</td>\n",
       "      <td>...</td>\n",
       "      <td>...</td>\n",
       "    </tr>\n",
       "    <tr>\n",
       "      <th>617818</th>\n",
       "      <td>2020-04-01</td>\n",
       "      <td>2020-04-01</td>\n",
       "      <td>10:42:35</td>\n",
       "      <td>10:43:37</td>\n",
       "      <td>61</td>\n",
       "      <td>1</td>\n",
       "      <td>10</td>\n",
       "      <td>10</td>\n",
       "      <td>0.002469</td>\n",
       "      <td>April</td>\n",
       "      <td>Wed</td>\n",
       "      <td>999960</td>\n",
       "      <td>Subscriber</td>\n",
       "      <td>app</td>\n",
       "    </tr>\n",
       "    <tr>\n",
       "      <th>617819</th>\n",
       "      <td>2020-03-18</td>\n",
       "      <td>2020-03-18</td>\n",
       "      <td>17:10:42</td>\n",
       "      <td>17:12:01</td>\n",
       "      <td>78</td>\n",
       "      <td>1</td>\n",
       "      <td>17</td>\n",
       "      <td>17</td>\n",
       "      <td>0.003129</td>\n",
       "      <td>March</td>\n",
       "      <td>Wed</td>\n",
       "      <td>999960</td>\n",
       "      <td>Subscriber</td>\n",
       "      <td>app</td>\n",
       "    </tr>\n",
       "    <tr>\n",
       "      <th>617820</th>\n",
       "      <td>2020-04-01</td>\n",
       "      <td>2020-04-01</td>\n",
       "      <td>13:32:28</td>\n",
       "      <td>13:34:31</td>\n",
       "      <td>122</td>\n",
       "      <td>2</td>\n",
       "      <td>13</td>\n",
       "      <td>13</td>\n",
       "      <td>0.005214</td>\n",
       "      <td>April</td>\n",
       "      <td>Wed</td>\n",
       "      <td>633095</td>\n",
       "      <td>Subscriber</td>\n",
       "      <td>app</td>\n",
       "    </tr>\n",
       "    <tr>\n",
       "      <th>617821</th>\n",
       "      <td>2020-04-01</td>\n",
       "      <td>2020-04-01</td>\n",
       "      <td>13:07:34</td>\n",
       "      <td>13:13:14</td>\n",
       "      <td>340</td>\n",
       "      <td>5</td>\n",
       "      <td>13</td>\n",
       "      <td>13</td>\n",
       "      <td>0.003952</td>\n",
       "      <td>April</td>\n",
       "      <td>Wed</td>\n",
       "      <td>633095</td>\n",
       "      <td>Subscriber</td>\n",
       "      <td>app</td>\n",
       "    </tr>\n",
       "    <tr>\n",
       "      <th>617822</th>\n",
       "      <td>2020-03-23</td>\n",
       "      <td>2020-03-23</td>\n",
       "      <td>16:39:57</td>\n",
       "      <td>16:45:30</td>\n",
       "      <td>333</td>\n",
       "      <td>5</td>\n",
       "      <td>16</td>\n",
       "      <td>16</td>\n",
       "      <td>0.059483</td>\n",
       "      <td>March</td>\n",
       "      <td>Mon</td>\n",
       "      <td>633095</td>\n",
       "      <td>Subscriber</td>\n",
       "      <td>app</td>\n",
       "    </tr>\n",
       "  </tbody>\n",
       "</table>\n",
       "<p>617823 rows × 14 columns</p>\n",
       "</div>"
      ],
      "text/plain": [
       "        start_date    end_date start_time  end_time  duration_sec  \\\n",
       "0       2020-01-18  2020-01-18   19:03:45  19:30:25          1600   \n",
       "1       2020-01-25  2020-01-25   17:32:53  18:05:12          1938   \n",
       "2       2020-01-25  2020-01-25   17:33:13  18:06:40          2007   \n",
       "3       2020-01-29  2020-01-29   15:32:04  15:41:32           567   \n",
       "4       2020-01-30  2020-01-30   17:41:38  18:00:05          1107   \n",
       "...            ...         ...        ...       ...           ...   \n",
       "617818  2020-04-01  2020-04-01   10:42:35  10:43:37            61   \n",
       "617819  2020-03-18  2020-03-18   17:10:42  17:12:01            78   \n",
       "617820  2020-04-01  2020-04-01   13:32:28  13:34:31           122   \n",
       "617821  2020-04-01  2020-04-01   13:07:34  13:13:14           340   \n",
       "617822  2020-03-23  2020-03-23   16:39:57  16:45:30           333   \n",
       "\n",
       "        duration_min  start_hour  end_hour  distance_km    month dayofweek  \\\n",
       "0                 26          19        19     1.535881  January       Sat   \n",
       "1                 32          17        18     2.272008  January       Sat   \n",
       "2                 33          17        18     2.287324  January       Sat   \n",
       "3                  9          15        15     1.238728  January       Wed   \n",
       "4                 18          17        18     3.441476  January       Thu   \n",
       "...              ...         ...       ...          ...      ...       ...   \n",
       "617818             1          10        10     0.002469    April       Wed   \n",
       "617819             1          17        17     0.003129    March       Wed   \n",
       "617820             2          13        13     0.005214    April       Wed   \n",
       "617821             5          13        13     0.003952    April       Wed   \n",
       "617822             5          16        16     0.059483    March       Mon   \n",
       "\n",
       "        bike_id   user_type rental_access_method  \n",
       "0        330770    Customer                  app  \n",
       "1        605133    Customer                  app  \n",
       "2        273769    Customer                  app  \n",
       "3        627622    Customer                  app  \n",
       "4        627622    Customer                  app  \n",
       "...         ...         ...                  ...  \n",
       "617818   999960  Subscriber                  app  \n",
       "617819   999960  Subscriber                  app  \n",
       "617820   633095  Subscriber                  app  \n",
       "617821   633095  Subscriber                  app  \n",
       "617822   633095  Subscriber                  app  \n",
       "\n",
       "[617823 rows x 14 columns]"
      ]
     },
     "execution_count": 42,
     "metadata": {},
     "output_type": "execute_result"
    }
   ],
   "source": [
    "df_clean"
   ]
  },
  {
   "cell_type": "markdown",
   "metadata": {},
   "source": [
    "### Storing cleaned dataframe to csv file"
   ]
  },
  {
   "cell_type": "code",
   "execution_count": 43,
   "metadata": {},
   "outputs": [],
   "source": [
    "df_clean.to_csv('2020-1stQ-baywheels-tripdata.csv',index = False)"
   ]
  },
  {
   "cell_type": "markdown",
   "metadata": {},
   "source": [
    "### What is the structure of your dataset?\n",
    "The dataset ,[Ford GoBike Share](https://www.lyft.com/bikes/bay-wheels/system-data), for the first quarter of 2020 has 617,823 trip records in the dataset with 13 features. (start_date, end_date, start_time, end_time, duration_sec, duration_min, start_hour, end_hour, distance_km, month, dayofweek, bike_id, user_type, rental_access_method).<br/>\n",
    "Most variables are numeric, some are sting objects (e.g. month, dayofweek, string of dates and times), the variables user_type, rental_access_method are catgorical date with the following valus. <br/>\n",
    "User Type: (Subscriber or Customer – “Subscriber” = Member or “Customer” = Casual)\n",
    "Rental access method: app or clipper – clipper is the all-in-one transit card for the Bay Area)<br/>\n",
    "\n",
    "### What is/are the main feature(s) of interest in your dataset?\n",
    "* When are most trips taken in terms of time of day, day of the week, or month of the year?\n",
    "* How long does the average trip take?\n",
    "* Does the above depend on if a user is a subscriber or customer?\n",
    "\n",
    "### What features in the dataset do you think will help support your investigation into your feature(s) of interest?\n",
    "\n",
    "I expect that time, month, and day of week will have the strongest effect on on the amount of trips taken: less trips on the days of the week and higher at the weekends. The duration of time will help us understand the average time a trip takes. I also think that the other customer and reental method will be used to test if it has any effect on the above.\n",
    "\n",
    "## Univariate Exploration\n",
    "\n",
    "I'll start by looking at the distribution of the main variable of interest."
   ]
  },
  {
   "cell_type": "code",
   "execution_count": 44,
   "metadata": {},
   "outputs": [],
   "source": [
    "df=pd.read_csv('2020-1stQ-baywheels-tripdata.csv')"
   ]
  },
  {
   "cell_type": "code",
   "execution_count": 45,
   "metadata": {},
   "outputs": [
    {
     "data": {
      "text/html": [
       "<div>\n",
       "<style scoped>\n",
       "    .dataframe tbody tr th:only-of-type {\n",
       "        vertical-align: middle;\n",
       "    }\n",
       "\n",
       "    .dataframe tbody tr th {\n",
       "        vertical-align: top;\n",
       "    }\n",
       "\n",
       "    .dataframe thead th {\n",
       "        text-align: right;\n",
       "    }\n",
       "</style>\n",
       "<table border=\"1\" class=\"dataframe\">\n",
       "  <thead>\n",
       "    <tr style=\"text-align: right;\">\n",
       "      <th></th>\n",
       "      <th>duration_sec</th>\n",
       "      <th>duration_min</th>\n",
       "      <th>start_hour</th>\n",
       "      <th>end_hour</th>\n",
       "      <th>distance_km</th>\n",
       "      <th>bike_id</th>\n",
       "    </tr>\n",
       "  </thead>\n",
       "  <tbody>\n",
       "    <tr>\n",
       "      <th>count</th>\n",
       "      <td>617823.000000</td>\n",
       "      <td>617823.000000</td>\n",
       "      <td>617823.000000</td>\n",
       "      <td>617823.000000</td>\n",
       "      <td>617823.000000</td>\n",
       "      <td>617823.000000</td>\n",
       "    </tr>\n",
       "    <tr>\n",
       "      <th>mean</th>\n",
       "      <td>787.964103</td>\n",
       "      <td>12.642194</td>\n",
       "      <td>13.722759</td>\n",
       "      <td>13.886833</td>\n",
       "      <td>1.925380</td>\n",
       "      <td>501905.168110</td>\n",
       "    </tr>\n",
       "    <tr>\n",
       "      <th>std</th>\n",
       "      <td>1356.964028</td>\n",
       "      <td>22.617983</td>\n",
       "      <td>4.771084</td>\n",
       "      <td>4.798867</td>\n",
       "      <td>1.393210</td>\n",
       "      <td>243637.842441</td>\n",
       "    </tr>\n",
       "    <tr>\n",
       "      <th>min</th>\n",
       "      <td>60.000000</td>\n",
       "      <td>1.000000</td>\n",
       "      <td>0.000000</td>\n",
       "      <td>0.000000</td>\n",
       "      <td>0.000000</td>\n",
       "      <td>100077.000000</td>\n",
       "    </tr>\n",
       "    <tr>\n",
       "      <th>25%</th>\n",
       "      <td>379.000000</td>\n",
       "      <td>6.000000</td>\n",
       "      <td>10.000000</td>\n",
       "      <td>10.000000</td>\n",
       "      <td>0.921140</td>\n",
       "      <td>312833.000000</td>\n",
       "    </tr>\n",
       "    <tr>\n",
       "      <th>50%</th>\n",
       "      <td>604.000000</td>\n",
       "      <td>10.000000</td>\n",
       "      <td>14.000000</td>\n",
       "      <td>15.000000</td>\n",
       "      <td>1.616548</td>\n",
       "      <td>476504.000000</td>\n",
       "    </tr>\n",
       "    <tr>\n",
       "      <th>75%</th>\n",
       "      <td>940.000000</td>\n",
       "      <td>15.000000</td>\n",
       "      <td>17.000000</td>\n",
       "      <td>18.000000</td>\n",
       "      <td>2.631885</td>\n",
       "      <td>672267.000000</td>\n",
       "    </tr>\n",
       "    <tr>\n",
       "      <th>max</th>\n",
       "      <td>811077.000000</td>\n",
       "      <td>13517.000000</td>\n",
       "      <td>23.000000</td>\n",
       "      <td>23.000000</td>\n",
       "      <td>60.619370</td>\n",
       "      <td>999960.000000</td>\n",
       "    </tr>\n",
       "  </tbody>\n",
       "</table>\n",
       "</div>"
      ],
      "text/plain": [
       "        duration_sec   duration_min     start_hour       end_hour  \\\n",
       "count  617823.000000  617823.000000  617823.000000  617823.000000   \n",
       "mean      787.964103      12.642194      13.722759      13.886833   \n",
       "std      1356.964028      22.617983       4.771084       4.798867   \n",
       "min        60.000000       1.000000       0.000000       0.000000   \n",
       "25%       379.000000       6.000000      10.000000      10.000000   \n",
       "50%       604.000000      10.000000      14.000000      15.000000   \n",
       "75%       940.000000      15.000000      17.000000      18.000000   \n",
       "max    811077.000000   13517.000000      23.000000      23.000000   \n",
       "\n",
       "         distance_km        bike_id  \n",
       "count  617823.000000  617823.000000  \n",
       "mean        1.925380  501905.168110  \n",
       "std         1.393210  243637.842441  \n",
       "min         0.000000  100077.000000  \n",
       "25%         0.921140  312833.000000  \n",
       "50%         1.616548  476504.000000  \n",
       "75%         2.631885  672267.000000  \n",
       "max        60.619370  999960.000000  "
      ]
     },
     "execution_count": 45,
     "metadata": {},
     "output_type": "execute_result"
    }
   ],
   "source": [
    "df.describe()"
   ]
  },
  {
   "cell_type": "markdown",
   "metadata": {},
   "source": [
    "### Bike ride trip duration "
   ]
  },
  {
   "cell_type": "code",
   "execution_count": 46,
   "metadata": {},
   "outputs": [
    {
     "data": {
      "text/plain": [
       "(count    617823.000000\n",
       " mean        787.964103\n",
       " std        1356.964028\n",
       " min          60.000000\n",
       " 25%         379.000000\n",
       " 50%         604.000000\n",
       " 75%         940.000000\n",
       " max      811077.000000\n",
       " Name: duration_sec, dtype: float64,\n",
       " count    617823.000000\n",
       " mean         12.642194\n",
       " std          22.617983\n",
       " min           1.000000\n",
       " 25%           6.000000\n",
       " 50%          10.000000\n",
       " 75%          15.000000\n",
       " max       13517.000000\n",
       " Name: duration_min, dtype: float64)"
      ]
     },
     "execution_count": 46,
     "metadata": {},
     "output_type": "execute_result"
    }
   ],
   "source": [
    "df.duration_sec.describe(),df.duration_min.describe()"
   ]
  },
  {
   "cell_type": "code",
   "execution_count": 47,
   "metadata": {},
   "outputs": [
    {
     "data": {
      "image/png": "[encoded data removed]",
      "text/plain": [
       "<Figure size 432x288 with 1 Axes>"
      ]
     },
     "metadata": {
      "needs_background": "light"
     },
     "output_type": "display_data"
    }
   ],
   "source": [
    "binsize = 200\n",
    "bins = np.arange(0, df.duration_sec.max()+binsize, binsize)\n",
    "plt.hist(data = df, x = 'duration_sec', bins=bins);\n",
    "plt.title(\"Trip Duration in Seconds\")\n",
    "plt.xlabel('Duration time (s)')\n",
    "plt.ylabel('Number of bike trips')\n",
    "plt.xlim(0,4000)\n",
    "plt.show()"
   ]
  },
  {
   "cell_type": "markdown",
   "metadata": {},
   "source": [
    "Since it is hard to plot and read the chart in seconds unit (even the statistics) I will use the time duration in minutes. to understand the distrubution of time and the average time for most of the trips. The trip duration distribution has a long-tailed right skewed distribution  "
   ]
  },
  {
   "cell_type": "code",
   "execution_count": 48,
   "metadata": {
    "scrolled": false
   },
   "outputs": [
    {
     "data": {
      "image/png": "[encoded data removed]",
      "text/plain": [
       "<Figure size 432x288 with 1 Axes>"
      ]
     },
     "metadata": {
      "needs_background": "light"
     },
     "output_type": "display_data"
    }
   ],
   "source": [
    "binsize = 1\n",
    "bins = np.arange(0, df.duration_min.max()+binsize, binsize)\n",
    "plt.hist(data = df, x = 'duration_min', bins=bins);\n",
    "#plt.ylim(0,100)\n",
    "plt.xlim(0,10)\n",
    "plt.title(\"Trip Duration in Minutes\")\n",
    "plt.xlabel('Duration (Minutes)')\n",
    "plt.ylabel('Number of Bike Trips');"
   ]
  },
  {
   "cell_type": "markdown",
   "metadata": {},
   "source": [
    "**Observation 1:**<br/>\n",
    "We notice from the trip duration distribution that in most of the bike trips (40,000), the bike is rented for about 5-10 minutes. Moreover, the average renting time according to the statistic summary is 12 minutes. This needs more investigation."
   ]
  },
  {
   "cell_type": "markdown",
   "metadata": {},
   "source": [
    "### Bike rides in each month"
   ]
  },
  {
   "cell_type": "code",
   "execution_count": 49,
   "metadata": {},
   "outputs": [
    {
     "data": {
      "image/png": "[encoded data removed]",
      "text/plain": [
       "<Figure size 432x288 with 1 Axes>"
      ]
     },
     "metadata": {
      "needs_background": "light"
     },
     "output_type": "display_data"
    }
   ],
   "source": [
    "plt.hist(data = df, x = 'month');\n",
    "plt.xlim(0,2)\n",
    "plt.title(\"Trips Taken by Months - 1st Quarter of 2020\")\n",
    "plt.xlabel('Nonths')\n",
    "plt.ylabel('Number of Bike Trips');"
   ]
  },
  {
   "cell_type": "markdown",
   "metadata": {},
   "source": [
    "**Observation 2:**<br/> It appears that February has the most brike rides which was expected with slightly warmer weather and the Valentine's Day (couple going out on trips). However, the ride trips has drastically decreased by March which is also  expected since the break of covid–19 [3]."
   ]
  },
  {
   "cell_type": "markdown",
   "metadata": {},
   "source": [
    "### Bike trips by day of week"
   ]
  },
  {
   "cell_type": "code",
   "execution_count": 50,
   "metadata": {
    "scrolled": true
   },
   "outputs": [
    {
     "data": {
      "image/png": "[encoded data removed]",
      "text/plain": [
       "<Figure size 432x288 with 1 Axes>"
      ]
     },
     "metadata": {
      "needs_background": "light"
     },
     "output_type": "display_data"
    }
   ],
   "source": [
    "weekday = ['Mon', 'Tue', 'Wed', 'Thu', 'Fri', 'Sat', 'Sun']\n",
    "sb.countplot(data=df, x='dayofweek',color=sb.color_palette()[0] ,order=weekday);\n",
    "plt.ylabel('Number of Bike Trips')\n",
    "plt.xlabel('Days of the week')\n",
    "plt.title('Trips Taken by Day')\n",
    "plt.show()"
   ]
  },
  {
   "cell_type": "markdown",
   "metadata": {},
   "source": [
    "**Observation 3:**<br/>\n",
    "The bar chart shows that from Wednesday to Friday has the most ride trips number. Interestingly, the weekend has the least number! This suggest that people rent bikes for working days (i.e. taking rides to work this justify the 10 mins trip.) "
   ]
  },
  {
   "cell_type": "markdown",
   "metadata": {},
   "source": [
    "### Bike trips by hours"
   ]
  },
  {
   "cell_type": "code",
   "execution_count": 51,
   "metadata": {
    "scrolled": true
   },
   "outputs": [
    {
     "data": {
      "image/png": "[encoded data removed]",
      "text/plain": [
       "<Figure size 432x288 with 1 Axes>"
      ]
     },
     "metadata": {
      "needs_background": "light"
     },
     "output_type": "display_data"
    }
   ],
   "source": [
    "binsize = 0.25\n",
    "bins = np.arange(0, df.start_hour.max()+binsize, binsize)\n",
    "plt.hist(data = df, x = 'start_hour', bins=bins)\n",
    "plt.title(\"Trips Taken by Hours - 1st Quarter of 2020\")\n",
    "plt.xlim(0,23)\n",
    "plt.xticks([0,1,2,3,4,5,6,7,8,9,10,11,12,13,14,15,16,17,18,19,20,21,22,23])\n",
    "plt.xlabel('Hours')\n",
    "plt.ylabel('Number of Bike Trips');"
   ]
  },
  {
   "cell_type": "markdown",
   "metadata": {},
   "source": [
    "**Observation 4:** <br/>\n",
    "The peak time or the top two hours is 5:00 pm followed by 8:00 am. Moreover, from the distribiution the top two hours and the adjesant hours has large number of bike rides! This also proves that the users are renting bikes during working hours (i.e. renting bikes for commuting from/to work)."
   ]
  },
  {
   "cell_type": "markdown",
   "metadata": {},
   "source": [
    "### Bike trip distances (km)"
   ]
  },
  {
   "cell_type": "code",
   "execution_count": 52,
   "metadata": {},
   "outputs": [
    {
     "data": {
      "image/png": "[encoded data removed]",
      "text/plain": [
       "<Figure size 432x288 with 1 Axes>"
      ]
     },
     "metadata": {
      "needs_background": "light"
     },
     "output_type": "display_data"
    }
   ],
   "source": [
    "binsize = 1\n",
    "bins = np.arange(0, df.distance_km.max()+binsize, binsize)\n",
    "plt.hist(data = df, x = 'distance_km', bins=bins)\n",
    "plt.title(\"Distance Distribution of Bike Trips\")\n",
    "plt.xlim(0,10)\n",
    "plt.xlabel('Trip Distance (km)')\n",
    "plt.ylabel('Number of Bike Trips');"
   ]
  },
  {
   "cell_type": "markdown",
   "metadata": {},
   "source": [
    "**Observation 5:**<br/>\n",
    "The distribution of the trip distance shows that most of the rides takes 1km. the second most is less than 1km. according to the statistic the average trip distance is 1.93km with 25% it takes 0.92km and 57% of the rides it takes 2.63km."
   ]
  },
  {
   "cell_type": "markdown",
   "metadata": {},
   "source": [
    "### The rental access methods used most of the bike trips"
   ]
  },
  {
   "cell_type": "code",
   "execution_count": 53,
   "metadata": {},
   "outputs": [
    {
     "data": {
      "text/plain": [
       "app        92.330328\n",
       "clipper     7.669672\n",
       "Name: rental_access_method, dtype: float64"
      ]
     },
     "execution_count": 53,
     "metadata": {},
     "output_type": "execute_result"
    }
   ],
   "source": [
    "common_method=df.rental_access_method.value_counts()/df.shape[0]*100\n",
    "common_method"
   ]
  },
  {
   "cell_type": "code",
   "execution_count": 54,
   "metadata": {
    "scrolled": true
   },
   "outputs": [
    {
     "data": {
      "image/png": "[encoded data removed]",
      "text/plain": [
       "<Figure size 432x288 with 1 Axes>"
      ]
     },
     "metadata": {},
     "output_type": "display_data"
    }
   ],
   "source": [
    "labels = ['App 92.33%','Clipper 7.67%']\n",
    "plt.pie(common_method,labels=common_method.index, autopct='%.2f');\n",
    "plt.axis('equal')\n",
    "plt.title('Common Rental Method for Bike Trips')\n",
    "plt.legend(labels, bbox_to_anchor=(1.3,1.0), loc=\"upper right\")\n",
    "plt.show()"
   ]
  },
  {
   "cell_type": "markdown",
   "metadata": {},
   "source": [
    "**Observation 6:**<br/>\n",
    "92.33% of the bike rental methods are by app and only 7.67% are rented by clippers (card)."
   ]
  },
  {
   "cell_type": "markdown",
   "metadata": {},
   "source": [
    "### User types"
   ]
  },
  {
   "cell_type": "code",
   "execution_count": 55,
   "metadata": {},
   "outputs": [
    {
     "data": {
      "text/plain": [
       "Subscriber    86.113499\n",
       "Customer      13.886501\n",
       "Name: user_type, dtype: float64"
      ]
     },
     "execution_count": 55,
     "metadata": {},
     "output_type": "execute_result"
    }
   ],
   "source": [
    "common_users=df.user_type.value_counts()/df.shape[0]*100\n",
    "common_users"
   ]
  },
  {
   "cell_type": "code",
   "execution_count": 56,
   "metadata": {
    "scrolled": false
   },
   "outputs": [
    {
     "data": {
      "image/png": "[encoded data removed]",
      "text/plain": [
       "<Figure size 432x288 with 1 Axes>"
      ]
     },
     "metadata": {},
     "output_type": "display_data"
    }
   ],
   "source": [
    "labels = [' Subscriber 86.11%','Customer 13.88%']\n",
    "plt.pie(common_users,labels=common_users.index, autopct='%.2f');\n",
    "plt.axis('equal')\n",
    "plt.title('Common Users Types for Bike Trips')\n",
    "plt.legend(labels, bbox_to_anchor=(1.3,1.0), loc=\"upper right\")\n",
    "plt.show()"
   ]
  },
  {
   "cell_type": "markdown",
   "metadata": {},
   "source": [
    "**Observation 8:**<br/>\n",
    "86.11% of the users are subscribers while 13.88% of them are customer!"
   ]
  },
  {
   "cell_type": "markdown",
   "metadata": {},
   "source": [
    "### Discuss the distribution(s) of your variable(s) of interest. Were there any unusual points? Did you need to perform any transformations?\n",
    "\n",
    "Nothing unexpected. At first it was unusual how the `Bike trip duration in minutes` had 5-10 mins (i.e. small values) but by the time we investigated other features such `user_types`,`Trips by month`,`Hours`, and `Distance in km` it was reasonable. <br/>\n",
    "#### First insights \n",
    "- We notice from the trip duration distribution that in most of the bike trips (40,000), the bike is rented for about 5-10 minutes. Moreover, the average renting time according to the statistic summary is 12 minutes. This needs more investigation.-\n",
    "- It appears that February has the most bike rides which was expected with slightly warmer weather and the Valentine's Day (couple going out on trips). The ride trips has drastically decreased by March which is also expected since the break of covid–19 [3].\n",
    "- The bar chart shows that from Wednesday to Friday has the most ride trips number. Interestingly, the weekend has the least number! This suggest that people rent bikes for working days (i.e. taking rides to work this justify the 10 mins trip.)\n",
    "- The distribution of the trip distance shows that most of the rides takes 1km. the second most is less than 1km. according to the statistic the average trip distance is 1.93km with 25% it takes 0.92km and 57% of the rides it takes 2.63km.\n",
    "- 92.33% of the bike rental methods are by app and only 7.67% are rented by clippers (card).\n",
    "- 86.11% of the users are subscribers while 13.88% of them are customer!\n",
    " \n",
    "\n",
    "### Of the features you investigated, were there any unusual distributions? Did you perform any operations on the data to tidy, adjust, or change the form of the data? If so, why did you do this?\n",
    "\n",
    "As mentioned before, the duration of the trips was strange for me at first. After investigation, it was proven that having 86% subscribers, taking distance rides of approxmatly 2 km and the huge number of trips during the working days and hours has proven that renting a ride for small amount of time (5-10 mins) is only reasonable. \n",
    "\n",
    "Now will continue to explore more than one features to see their relationship and their affect on the result."
   ]
  },
  {
   "cell_type": "markdown",
   "metadata": {},
   "source": [
    "## Bivariate Exploration"
   ]
  },
  {
   "cell_type": "markdown",
   "metadata": {},
   "source": [
    "### Relationship between user types and time duration\n",
    "Qualitative vs. quantitative (violin plot)"
   ]
  },
  {
   "cell_type": "code",
   "execution_count": 57,
   "metadata": {},
   "outputs": [],
   "source": [
    "cond=df[df.duration_min<60]"
   ]
  },
  {
   "cell_type": "code",
   "execution_count": 58,
   "metadata": {},
   "outputs": [
    {
     "data": {
      "image/png": "[encoded data removed]",
      "text/plain": [
       "<Figure size 1080x720 with 2 Axes>"
      ]
     },
     "metadata": {
      "needs_background": "light"
     },
     "output_type": "display_data"
    }
   ],
   "source": [
    "# base_color = sb.color_palette()[0]\n",
    "# s=sb.violinplot(data = cond, y = 'duration_min', x =  'user_type' , color=base_color)\n",
    "\n",
    "plt.figure(figsize = [15, 10])\n",
    "base_color = sb.color_palette()[0]\n",
    "\n",
    "# left plot: violin plot\n",
    "plt.subplot(1, 2, 1)\n",
    "ax1 = sb.violinplot(data = cond, x = 'user_type', y = 'duration_min', color = base_color)\n",
    "\n",
    "# right plot: box plot\n",
    "plt.subplot(1, 2, 2)\n",
    "sb.boxplot(data = cond, x = 'user_type', y = 'duration_min', color = base_color)\n",
    "plt.ylim(ax1.get_ylim()) # set y-axis limits to be same as left plot\n",
    "ax1.set(xlabel='User types',ylabel='Duration (min)', title='Relationship between user types and time duration m.')\n",
    "\n",
    "\n",
    "plt.show()"
   ]
  },
  {
   "cell_type": "markdown",
   "metadata": {},
   "source": [
    "**Observation:**<br/>\n",
    "From both plots it appears that the customers has higher trip duration than subscribers. Customers has longer trip duration (over 30 mins) meanwhile, subscribers take less than 30. "
   ]
  },
  {
   "cell_type": "markdown",
   "metadata": {},
   "source": [
    "### Relationship between user types and months 1st quarter of 2020"
   ]
  },
  {
   "cell_type": "code",
   "execution_count": 59,
   "metadata": {
    "scrolled": true
   },
   "outputs": [
    {
     "data": {
      "image/png": "[encoded data removed]",
      "text/plain": [
       "<Figure size 432x288 with 1 Axes>"
      ]
     },
     "metadata": {
      "needs_background": "light"
     },
     "output_type": "display_data"
    }
   ],
   "source": [
    "ax = sb.countplot(data = df, x = 'month', hue = 'user_type', order=['January','February','March'])\n",
    "ax.legend(loc = 1, ncol = 1, framealpha = 0.5, title = 'user_type')\n",
    "ax.set(xlabel='Months',ylabel='Number of trips', title='Relationship between user types and months \\n1st quarter of 2020')\n",
    "\n",
    "plt.show()"
   ]
  },
  {
   "cell_type": "markdown",
   "metadata": {},
   "source": [
    "**observation:** <br/>\n",
    "Both subscribers and customer hit the peak in february then decreased drastically in march."
   ]
  },
  {
   "cell_type": "markdown",
   "metadata": {},
   "source": [
    "### Relationship between user types and days of week"
   ]
  },
  {
   "cell_type": "code",
   "execution_count": 60,
   "metadata": {},
   "outputs": [],
   "source": [
    "weekday = ['Mon', 'Tue', 'Wed', 'Thu', 'Fri', 'Sat', 'Sun']"
   ]
  },
  {
   "cell_type": "code",
   "execution_count": 61,
   "metadata": {},
   "outputs": [
    {
     "data": {
      "image/png": "[encoded data removed]",
      "text/plain": [
       "<Figure size 432x288 with 1 Axes>"
      ]
     },
     "metadata": {
      "needs_background": "light"
     },
     "output_type": "display_data"
    }
   ],
   "source": [
    "ax = sb.countplot(data = df, x = 'dayofweek', hue = 'user_type', order=weekday)\n",
    "ax.legend(loc = 1, ncol = 1, framealpha = 0.5, title = 'user_type')\n",
    "ax.set(xlabel='Days of week',ylabel='Number of trips', title='Relationship between user types and days of week')\n",
    "plt.show()"
   ]
  },
  {
   "cell_type": "markdown",
   "metadata": {},
   "source": [
    "**Observation:**<br/>\n",
    "We notice here that subscribers are more likely to take rides in general since they represent 86%, hence, it affects the distribution of the trips by days. specifically, subscribers usage in the week days Wednesday and Friday (for work) and decreased by fraction in the weekends. Meanwhile, the customers are the less consuming/renting rides and there is a slight increasing at the weekends.\n"
   ]
  },
  {
   "cell_type": "markdown",
   "metadata": {},
   "source": [
    "### Relationship between user types and time of day"
   ]
  },
  {
   "cell_type": "code",
   "execution_count": 62,
   "metadata": {
    "scrolled": true
   },
   "outputs": [
    {
     "data": {
      "image/png": "[encoded data removed]",
      "text/plain": [
       "<Figure size 720x360 with 1 Axes>"
      ]
     },
     "metadata": {
      "needs_background": "light"
     },
     "output_type": "display_data"
    }
   ],
   "source": [
    "plt.figure(figsize = [10, 5])\n",
    "ax = sb.countplot(data = df, x = 'start_hour', hue = 'user_type')\n",
    "ax.legend(loc = 1, ncol = 3, framealpha = 0.5, title = 'user_type')\n",
    "ax.set(xlabel='Hours of the day',ylabel='Number of trips', title='Relationship between user types and time of day')\n",
    "plt.show()"
   ]
  },
  {
   "cell_type": "markdown",
   "metadata": {},
   "source": [
    "**Observation:**<br/>\n",
    "Most of the subscribers trips is taken at 8:00pm and 17:00pm which is the peak time (people go to and come from work at these hours). Meanwhile, the customers distribution entails that the trip count increases as the day progresses until 17:00pm which is the peak hour too. "
   ]
  },
  {
   "cell_type": "markdown",
   "metadata": {},
   "source": [
    "### Relationship between user types and rental methods"
   ]
  },
  {
   "cell_type": "code",
   "execution_count": 63,
   "metadata": {
    "scrolled": false
   },
   "outputs": [
    {
     "data": {
      "text/plain": [
       "[Text(0, 0.5, 'Count'),\n",
       " Text(0.5, 0, 'Rental access method'),\n",
       " Text(0.5, 1.0, 'Relationship between user types and rental methods')]"
      ]
     },
     "execution_count": 63,
     "metadata": {},
     "output_type": "execute_result"
    },
    {
     "data": {
      "image/png": "[encoded data removed]",
      "text/plain": [
       "<Figure size 720x360 with 1 Axes>"
      ]
     },
     "metadata": {
      "needs_background": "light"
     },
     "output_type": "display_data"
    }
   ],
   "source": [
    "plt.figure(figsize = [10, 5])\n",
    "s=sb.countplot(data = df, x = 'rental_access_method', hue = 'user_type')\n",
    "s.set(xlabel='Rental access method',ylabel='Count', title='Relationship between user types and rental methods')\n",
    "plt.show()"
   ]
  },
  {
   "cell_type": "markdown",
   "metadata": {},
   "source": [
    "**Observation:** Both subscribers and customers rented bikes by app, however, both have a relatively small number of trips rented using clippers."
   ]
  },
  {
   "cell_type": "markdown",
   "metadata": {},
   "source": [
    "### Talk about some of the relationships you observed in this part of the investigation. How did the feature(s) of interest vary with other features in the dataset?\n",
    "We observed the time duration according to the user type. Also, the trip counts of user categories by month, days of the week, hours, and the relation ship between the user type and `rental access method`. Nothing out of expectation.\n",
    "#### Developed insights\n",
    "- From both plots it appears that the customers has higher trip duration than subscribers. Customers took longer trip duration (over 30 mins) meanwhile, subscribers take less than 30.\n",
    "- Both subscribers and customer hit the peak in February then decreased drastically in march.\n",
    "- Subscribers usage in the week days Wednesday and Friday (for work) and decreased by fraction in the weekends. Meanwhile, the customers are the less consuming/renting rides and there is a slight increasing at the weekends.\n",
    "- Most of subscribers trips is taken at 8:00pm and 17:00pm which is the peak time (people go to and come from work at these hours). Meanwhile, the customers distribution entails that the trip count increases as the day progresses until 17:00pm which is the peak hour too. \n",
    "- Both subscribers and customers rented bikes by app, however, both have a relatively small number of trips rented using clippers.\n",
    "\n",
    "\n",
    "### Did you observe any interesting relationships between the other features (not the main feature(s) of interest)?\n",
    "All the relationships betweent the features we tested were strong. However, a new discovery that customer trips take longer, and both user types prefered using app as rental access method."
   ]
  },
  {
   "cell_type": "markdown",
   "metadata": {},
   "source": [
    "## Multivariate Exploration\n",
    "The main thing I want to explore in this part of the analysis is how the three vatiables date-time (Months, Days, Hours), user type, duration (min) play into the relationship with trips count.\n",
    "Now we can answer the following \n",
    "* When are most trips taken in terms of time of day, day of the week, or month of the year?\n",
    "<br/>\n",
    "* How long does the average trip take?\n",
    "<br/>\n",
    "* Does the above depend on if a user is a subscriber or customer?\n",
    "\n"
   ]
  },
  {
   "cell_type": "markdown",
   "metadata": {},
   "source": [
    "### Trips duration by user type and rental method"
   ]
  },
  {
   "cell_type": "code",
   "execution_count": 64,
   "metadata": {
    "scrolled": false
   },
   "outputs": [
    {
     "name": "stderr",
     "output_type": "stream",
     "text": [
      "/Users/Sherry/opt/anaconda3/lib/python3.7/site-packages/seaborn/axisgrid.py:728: UserWarning: Using the boxplot function without specifying `order` is likely to produce an incorrect plot.\n",
      "  warnings.warn(warning)\n"
     ]
    },
    {
     "data": {
      "image/png": "[encoded data removed]",
      "text/plain": [
       "<Figure size 720x360 with 2 Axes>"
      ]
     },
     "metadata": {
      "needs_background": "light"
     },
     "output_type": "display_data"
    }
   ],
   "source": [
    "g = sb.FacetGrid(data = cond, col = 'user_type', height=5)\n",
    "g.map(sb.boxplot, 'rental_access_method', 'duration_min')\n",
    "plt.subplots_adjust(top=0.9)\n",
    "g.fig.suptitle('Trips duration by user type and rental method')\n",
    "plt.show()"
   ]
  },
  {
   "cell_type": "markdown",
   "metadata": {},
   "source": [
    "**Observation:**<br/> Both types of group used **app** as rental method for the trip more over than **clipper (transit card)**. it does not seem that the rental method is effective on the other two. In trips type of users with duration affect the result, i.e. when its a customer he/she tends to have more trip duration. "
   ]
  },
  {
   "cell_type": "markdown",
   "metadata": {},
   "source": [
    "### Trips taken in terms of time of day, day of the week, or month of the year "
   ]
  },
  {
   "cell_type": "markdown",
   "metadata": {},
   "source": [
    "**The following plotted visuals answer our main question/topic**<br/>"
   ]
  },
  {
   "cell_type": "markdown",
   "metadata": {},
   "source": [
    "### Trips taken in terms of day of the week and user type [7]"
   ]
  },
  {
   "cell_type": "code",
   "execution_count": 65,
   "metadata": {
    "scrolled": false
   },
   "outputs": [
    {
     "data": {
      "image/png": "[encoded data removed]",
      "text/plain": [
       "<Figure size 864x432 with 2 Axes>"
      ]
     },
     "metadata": {
      "needs_background": "light"
     },
     "output_type": "display_data"
    }
   ],
   "source": [
    "g = sb.FacetGrid(data = cond, col = 'user_type', height=6)\n",
    "g.map(sb.boxplot, 'dayofweek', 'duration_min',order=weekday)\n",
    "g.set(xlabel='Day of week', ylabel='Duration (min)')\n",
    "plt.subplots_adjust(top=0.9)\n",
    "g.fig.suptitle('Trips taken in terms of day of the week and user type')\n",
    "plt.show()"
   ]
  },
  {
   "cell_type": "markdown",
   "metadata": {},
   "source": [
    "**observation:**<br/>\n",
    "We notice here the trip duration for subscribers has consistency throughout the week days with averaage duration 5-10 minutes. However, the trip duration for customers is more than with the subscribers for all days especially during weekends. As we saw earlier in bivariate exploration and the relationship between trip duration and user types. The customers tend to take long trips on weekends compared to weekdays."
   ]
  },
  {
   "cell_type": "markdown",
   "metadata": {},
   "source": [
    "### Trips taken in terms of time of day and user type"
   ]
  },
  {
   "cell_type": "code",
   "execution_count": 66,
   "metadata": {
    "scrolled": false
   },
   "outputs": [
    {
     "data": {
      "image/png": "[encoded data removed]",
      "text/plain": [
       "<Figure size 1152x576 with 2 Axes>"
      ]
     },
     "metadata": {
      "needs_background": "light"
     },
     "output_type": "display_data"
    }
   ],
   "source": [
    "g = sb.FacetGrid(data = cond, col = 'user_type', height=8)\n",
    "g.map(sb.boxplot, 'start_hour', 'duration_min',order=[0,1,2,3,4,5,6,7,8,9,10,11,12,13,14,15,16,17,18,19,20,21,22,23])\n",
    "g.set(xlabel='Time of day', ylabel='Duration (min)')\n",
    "g.fig.suptitle='Trips taken in terms of time of day and user type \\n (1st Quarter of 2020)'\n",
    "plt.subplots_adjust(top=0.7)\n",
    "plt.show()"
   ]
  },
  {
   "cell_type": "markdown",
   "metadata": {},
   "source": [
    "**Observation:**<br/>\n",
    "The subscibers trip has two peak hours 8:00 am and 17:00 pm, meanwhile, the customers trips from 14:00 - 16:00 pm. "
   ]
  },
  {
   "cell_type": "code",
   "execution_count": 67,
   "metadata": {
    "scrolled": false
   },
   "outputs": [
    {
     "data": {
      "image/png": "[encoded data removed]",
      "text/plain": [
       "<Figure size 432x288 with 2 Axes>"
      ]
     },
     "metadata": {
      "needs_background": "light"
     },
     "output_type": "display_data"
    }
   ],
   "source": [
    "cat_means = cond.groupby(['user_type', 'start_hour']).mean()['duration_min']\n",
    "cat_means = cat_means.reset_index(name = 'duration_min')\n",
    "cat_means = cat_means.pivot(index = 'start_hour', columns = 'user_type',\n",
    "                            values = 'duration_min')\n",
    "s=sb.heatmap(cat_means, annot = True, fmt = '.3f',\n",
    "           cbar_kws = {'label' : 'mean(duration_min)'})\n",
    "s.set(xlabel='Time of day', ylabel='Hours', title='Trips taken in terms of time of the day and user type \\n (1st Quarter of 2020)')\n",
    "plt.show()"
   ]
  },
  {
   "cell_type": "markdown",
   "metadata": {},
   "source": [
    "**Observation:**<br/>\n",
    "Same here, 8 am and 17 pm are the peak time of the suscribers trips duration, meanwhile, customers trips duration peak time from 14 - 16 pms"
   ]
  },
  {
   "cell_type": "markdown",
   "metadata": {},
   "source": [
    "### Trips taken by months and user type"
   ]
  },
  {
   "cell_type": "code",
   "execution_count": 68,
   "metadata": {
    "scrolled": false
   },
   "outputs": [
    {
     "data": {
      "image/png": "[encoded data removed]",
      "text/plain": [
       "<Figure size 1152x576 with 2 Axes>"
      ]
     },
     "metadata": {
      "needs_background": "light"
     },
     "output_type": "display_data"
    }
   ],
   "source": [
    "g = sb.FacetGrid(data = cond, col = 'user_type', height=8)\n",
    "g.map(sb.boxplot, 'month', 'duration_min', order=['January','February','March'])\n",
    "g.set(xlabel='Months of 1st Q', ylabel='Duration (min)')\n",
    "plt.subplots_adjust(top=0.9)\n",
    "g.fig.suptitle='Trips taken by months \\n and user type'\n",
    "plt.show()"
   ]
  },
  {
   "cell_type": "markdown",
   "metadata": {},
   "source": [
    "**Observation:**<br/>\n",
    "The customers still have the higher trip duration, however, there is consistency in time duration throughout the months... "
   ]
  },
  {
   "cell_type": "markdown",
   "metadata": {},
   "source": [
    "### Talk about some of the relationships you observed in this part of the investigation. Were there features that strengthened each other in terms of looking at your feature(s) of interest?\n",
    "I extended my investigation of the three vatiables date-time (Months, Days, Hours), user type, trip duration (min) in this section by looking at the impact of it on the trips..\n",
    "To answer the following \n",
    "* When are most trips taken in terms of time of day, day of the week, or month of the year?\n",
    "* How long does the average trip take?\n",
    "* Does the above depend on if a user is a subscriber or customer?\n",
    "The findings was just as we expected. \n",
    "\n",
    "### Were there any interesting or surprising interactions between features?\n",
    "Looking back on the point plots, the time-date and user-type features has an effect on the trips. However, there were no relation between the rental method and the user type. Overall, the results match our previous observations and expectations.  \n",
    "### Key Insights \n",
    "- The the bike is rented for about 5-10 minutes. Moreover, the average renting time according to the statistic summary is 12 minutes.\n",
    "- 92.33% of the bike rental methods are by app and only 7.67% are rented by clippers (transit card).\n",
    "- 86.11% of the users are subscribers while 13.88% of them are customer!\n",
    "- February is the top month for bike trips.\n",
    "- Most of subscribers trips has two peak hours at 8:00pm and 17:00pm which is work-time (I'm assuming people go to and come from work at these hours). Meanwhile, the customers distribution entails that the trip count increases as the day progresses from 14:00 until 17:00pm which is the peak time too.\n",
    "- The subscriber type has consistency throughout the week days with averaage duration 5-10 minutes while, the customers type has higher duration (over 20 min trip duration) during the weekends. \n",
    "- Both subscribers and customers rented bikes by app, however, both have a relatively small number of trips rented using clippers.\n"
   ]
  },
  {
   "cell_type": "markdown",
   "metadata": {},
   "source": [
    "## References \n",
    "[1] https://gist.github.com/rochacbruno/2883505 <br/>\n",
    "[2] https://pandas.pydata.org/pandas-docs/stable/reference/api/pandas.DataFrame.reset_index.html <br/>\n",
    "[3] https://news.google.com/covid19/map?hl=en-US&mid=%2Fg%2F11g6njkk2y&gl=US&ceid=US%3Aen <br/>\n",
    "[4] Udacity - https://udacity.com/<br/>\n",
    "[5] YouTube Tutorials - https://www.youtube.com/<br/>\n",
    "[6] stackoverflow - https://stackoverflow.com <br/>\n",
    "[7] Title positioning error - suptitle - https://stackoverflow.com/questions/52096050/seaborn-title-position"
   ]
  },
  {
   "cell_type": "code",
   "execution_count": 69,
   "metadata": {},
   "outputs": [
    {
     "data": {
      "text/plain": [
       "0"
      ]
     },
     "execution_count": 69,
     "metadata": {},
     "output_type": "execute_result"
    }
   ],
   "source": [
    "from subprocess import call\n",
    "call(['python', '-m', 'nbconvert', 'FordGoBikeSystemData_exploration.ipynb'])"
   ]
  }
 ],
 "metadata": {
  "celltoolbar": "Raw Cell Format",
  "kernelspec": {
   "display_name": "Python 3",
   "language": "python",
   "name": "python3"
  },
  "language_info": {
   "codemirror_mode": {
    "name": "ipython",
    "version": 3
   },
   "file_extension": ".py",
   "mimetype": "text/x-python",
   "name": "python",
   "nbconvert_exporter": "python",
   "pygments_lexer": "ipython3",
   "version": "3.7.6"
  }
 },
 "nbformat": 4,
 "nbformat_minor": 4
}
