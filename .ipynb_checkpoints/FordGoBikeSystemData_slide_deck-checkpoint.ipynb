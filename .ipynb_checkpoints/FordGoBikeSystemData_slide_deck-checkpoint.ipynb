{
 "cells": [
  {
   "cell_type": "markdown",
   "metadata": {
    "slideshow": {
     "slide_type": "slide"
    }
   },
   "source": [
    "# Ford GoBike Data System: Data Exploration\n",
    "<a id='intro'></a>\n",
    "## Introduction\n",
    "This document explores a dataset that includes information about individual rides made in a bike-sharing system covering the greater San Francisco Bay area. it covers the first quarter of 2020. [Download here](https://www.lyft.com/bikes/bay-wheels/system-data), you'll find Bay Wheels's trip data for public use.\n",
    "<br/> \n"
   ]
  },
  {
   "cell_type": "markdown",
   "metadata": {
    "slideshow": {
     "slide_type": "slide"
    }
   },
   "source": [
    "### What is the structure of your dataset?\n",
    "The dataset ,[Ford GoBike Share](https://www.lyft.com/bikes/bay-wheels/system-data), for the first quarter of 2020 has 617,823 trip records in the dataset with 13 features. (start_date, end_date, start_time, end_time, duration_sec, duration_min, start_hour, end_hour, distance_km, month, dayofweek, bike_id, user_type, rental_access_method).<br/>\n",
    "Most variables are numeric, some are sting objects (e.g. month, dayofweek, string of dates and times), the variables user_type, rental_access_method are catgorical date with the following valus. <br/>\n",
    "User Type: (Subscriber or Customer – “Subscriber” = Member or “Customer” = Casual)\n",
    "Rental access method: app or clipper – clipper is the all-in-one transit card for the Bay Area)<br/>\n"
   ]
  },
  {
   "cell_type": "markdown",
   "metadata": {
    "slideshow": {
     "slide_type": "slide"
    }
   },
   "source": [
    "\n",
    "### What is/are the main feature(s) of interest in your dataset?\n",
    "* When are most trips taken in terms of time of day, day of the week, or month of the year?\n",
    "* How long does the average trip take?\n",
    "* Does the above depend on if a user is a subscriber or customer?\n"
   ]
  },
  {
   "cell_type": "markdown",
   "metadata": {
    "slideshow": {
     "slide_type": "skip"
    }
   },
   "source": [
    "\n",
    "### What features in the dataset do you think will help support your investigation into your feature(s) of interest?\n",
    "\n",
    "I expect that time, month, and day of week will have the strongest effect on on the amount of trips taken: less trips on the days of the week and higher at the weekends. The duration of time will help us understand the average time a trip takes. I also think that the other customer and reental method will be used to test if it has any effect on the above.\n"
   ]
  },
  {
   "cell_type": "markdown",
   "metadata": {
    "slideshow": {
     "slide_type": "slide"
    }
   },
   "source": [
    "\n",
    "## Univariate Exploration"
   ]
  },
  {
   "cell_type": "code",
   "execution_count": 1,
   "metadata": {},
   "outputs": [],
   "source": [
    "# import all packages and set plots to be embedded inline\n",
    "import numpy as np\n",
    "import pandas as pd\n",
    "import matplotlib.pyplot as plt\n",
    "import seaborn as sb\n",
    "import calendar\n",
    "import datetime\n",
    "\n",
    "%matplotlib inline\n",
    "# suppress warnings from final output\n",
    "import warnings\n",
    "warnings.simplefilter(\"ignore\")"
   ]
  },
  {
   "cell_type": "code",
   "execution_count": 2,
   "metadata": {
    "slideshow": {
     "slide_type": "skip"
    }
   },
   "outputs": [],
   "source": [
    "df=pd.read_csv('2020-1stQ-baywheels-tripdata.csv')"
   ]
  },
  {
   "cell_type": "code",
   "execution_count": 3,
   "metadata": {
    "slideshow": {
     "slide_type": "skip"
    }
   },
   "outputs": [
    {
     "data": {
      "text/html": [
       "<div>\n",
       "<style scoped>\n",
       "    .dataframe tbody tr th:only-of-type {\n",
       "        vertical-align: middle;\n",
       "    }\n",
       "\n",
       "    .dataframe tbody tr th {\n",
       "        vertical-align: top;\n",
       "    }\n",
       "\n",
       "    .dataframe thead th {\n",
       "        text-align: right;\n",
       "    }\n",
       "</style>\n",
       "<table border=\"1\" class=\"dataframe\">\n",
       "  <thead>\n",
       "    <tr style=\"text-align: right;\">\n",
       "      <th></th>\n",
       "      <th>duration_sec</th>\n",
       "      <th>duration_min</th>\n",
       "      <th>start_hour</th>\n",
       "      <th>end_hour</th>\n",
       "      <th>distance_km</th>\n",
       "      <th>bike_id</th>\n",
       "    </tr>\n",
       "  </thead>\n",
       "  <tbody>\n",
       "    <tr>\n",
       "      <th>count</th>\n",
       "      <td>617823.000000</td>\n",
       "      <td>617823.000000</td>\n",
       "      <td>617823.000000</td>\n",
       "      <td>617823.000000</td>\n",
       "      <td>617823.000000</td>\n",
       "      <td>617823.000000</td>\n",
       "    </tr>\n",
       "    <tr>\n",
       "      <th>mean</th>\n",
       "      <td>787.964103</td>\n",
       "      <td>12.642194</td>\n",
       "      <td>13.722759</td>\n",
       "      <td>13.886833</td>\n",
       "      <td>1.925380</td>\n",
       "      <td>501905.168110</td>\n",
       "    </tr>\n",
       "    <tr>\n",
       "      <th>std</th>\n",
       "      <td>1356.964028</td>\n",
       "      <td>22.617983</td>\n",
       "      <td>4.771084</td>\n",
       "      <td>4.798867</td>\n",
       "      <td>1.393210</td>\n",
       "      <td>243637.842441</td>\n",
       "    </tr>\n",
       "    <tr>\n",
       "      <th>min</th>\n",
       "      <td>60.000000</td>\n",
       "      <td>1.000000</td>\n",
       "      <td>0.000000</td>\n",
       "      <td>0.000000</td>\n",
       "      <td>0.000000</td>\n",
       "      <td>100077.000000</td>\n",
       "    </tr>\n",
       "    <tr>\n",
       "      <th>25%</th>\n",
       "      <td>379.000000</td>\n",
       "      <td>6.000000</td>\n",
       "      <td>10.000000</td>\n",
       "      <td>10.000000</td>\n",
       "      <td>0.921140</td>\n",
       "      <td>312833.000000</td>\n",
       "    </tr>\n",
       "    <tr>\n",
       "      <th>50%</th>\n",
       "      <td>604.000000</td>\n",
       "      <td>10.000000</td>\n",
       "      <td>14.000000</td>\n",
       "      <td>15.000000</td>\n",
       "      <td>1.616548</td>\n",
       "      <td>476504.000000</td>\n",
       "    </tr>\n",
       "    <tr>\n",
       "      <th>75%</th>\n",
       "      <td>940.000000</td>\n",
       "      <td>15.000000</td>\n",
       "      <td>17.000000</td>\n",
       "      <td>18.000000</td>\n",
       "      <td>2.631885</td>\n",
       "      <td>672267.000000</td>\n",
       "    </tr>\n",
       "    <tr>\n",
       "      <th>max</th>\n",
       "      <td>811077.000000</td>\n",
       "      <td>13517.000000</td>\n",
       "      <td>23.000000</td>\n",
       "      <td>23.000000</td>\n",
       "      <td>60.619370</td>\n",
       "      <td>999960.000000</td>\n",
       "    </tr>\n",
       "  </tbody>\n",
       "</table>\n",
       "</div>"
      ],
      "text/plain": [
       "        duration_sec   duration_min     start_hour       end_hour  \\\n",
       "count  617823.000000  617823.000000  617823.000000  617823.000000   \n",
       "mean      787.964103      12.642194      13.722759      13.886833   \n",
       "std      1356.964028      22.617983       4.771084       4.798867   \n",
       "min        60.000000       1.000000       0.000000       0.000000   \n",
       "25%       379.000000       6.000000      10.000000      10.000000   \n",
       "50%       604.000000      10.000000      14.000000      15.000000   \n",
       "75%       940.000000      15.000000      17.000000      18.000000   \n",
       "max    811077.000000   13517.000000      23.000000      23.000000   \n",
       "\n",
       "         distance_km        bike_id  \n",
       "count  617823.000000  617823.000000  \n",
       "mean        1.925380  501905.168110  \n",
       "std         1.393210  243637.842441  \n",
       "min         0.000000  100077.000000  \n",
       "25%         0.921140  312833.000000  \n",
       "50%         1.616548  476504.000000  \n",
       "75%         2.631885  672267.000000  \n",
       "max        60.619370  999960.000000  "
      ]
     },
     "execution_count": 3,
     "metadata": {},
     "output_type": "execute_result"
    }
   ],
   "source": [
    "df.describe()"
   ]
  },
  {
   "cell_type": "markdown",
   "metadata": {
    "slideshow": {
     "slide_type": "slide"
    }
   },
   "source": [
    "### Bike Trip Duration \n",
    "We notice from the trip duration distribution that in most of the bike trips (40,000), the bike is rented for about 5-10 minutes. Moreover, the average renting time according to the statistic summary is 12 minutes."
   ]
  },
  {
   "cell_type": "code",
   "execution_count": 4,
   "metadata": {
    "slideshow": {
     "slide_type": "skip"
    }
   },
   "outputs": [
    {
     "data": {
      "text/plain": [
       "(count    617823.000000\n",
       " mean        787.964103\n",
       " std        1356.964028\n",
       " min          60.000000\n",
       " 25%         379.000000\n",
       " 50%         604.000000\n",
       " 75%         940.000000\n",
       " max      811077.000000\n",
       " Name: duration_sec, dtype: float64,\n",
       " count    617823.000000\n",
       " mean         12.642194\n",
       " std          22.617983\n",
       " min           1.000000\n",
       " 25%           6.000000\n",
       " 50%          10.000000\n",
       " 75%          15.000000\n",
       " max       13517.000000\n",
       " Name: duration_min, dtype: float64)"
      ]
     },
     "execution_count": 4,
     "metadata": {},
     "output_type": "execute_result"
    }
   ],
   "source": [
    "df.duration_sec.describe(),df.duration_min.describe()"
   ]
  },
  {
   "cell_type": "code",
   "execution_count": null,
   "metadata": {
    "scrolled": false,
    "slideshow": {
     "slide_type": "subslide"
    }
   },
   "outputs": [],
   "source": [
    "binsize = 1\n",
    "bins = np.arange(0, df.duration_min.max()+binsize, binsize)\n",
    "plt.hist(data = df, x = 'duration_min', bins=bins);\n",
    "#plt.ylim(0,100)\n",
    "plt.xlim(0,10)\n",
    "plt.title(\"Trip Duration in Minutes\")\n",
    "plt.xlabel('Duration (Minutes)')\n",
    "plt.ylabel('Number of Bike Trips');"
   ]
  },
  {
   "cell_type": "markdown",
   "metadata": {
    "slideshow": {
     "slide_type": "slide"
    }
   },
   "source": [
    "### Bike rides in each month\n",
    "It appears that February has the most brike rides which was expected with slightly warmer weather and the Valentine's Day (couple going out on trips). However, the trips has drastically decreased by March which is also expected since the break of covid–19."
   ]
  },
  {
   "cell_type": "code",
   "execution_count": null,
   "metadata": {
    "slideshow": {
     "slide_type": "subslide"
    }
   },
   "outputs": [],
   "source": [
    "plt.hist(data = df, x = 'month');\n",
    "plt.xlim(0,2)\n",
    "plt.title(\"Trips Taken by Months - 1st Quarter of 2020\")\n",
    "plt.xlabel('Nonths')\n",
    "plt.ylabel('Number of Bike Trips');"
   ]
  },
  {
   "cell_type": "markdown",
   "metadata": {
    "slideshow": {
     "slide_type": "slide"
    }
   },
   "source": [
    "### Bike trips by day of week\n",
    "The bar chart shows that from Wednesday to Friday has the most ride trips number. Interestingly, the weekend has the least number! This suggest that people rent bikes for working days (i.e. taking rides to work this justify the 10 mins trip.) "
   ]
  },
  {
   "cell_type": "code",
   "execution_count": null,
   "metadata": {
    "scrolled": true,
    "slideshow": {
     "slide_type": "subslide"
    }
   },
   "outputs": [],
   "source": [
    "weekday = ['Mon', 'Tue', 'Wed', 'Thu', 'Fri', 'Sat', 'Sun']\n",
    "sb.countplot(data=df, x='dayofweek',color=sb.color_palette()[0] ,order=weekday);\n",
    "plt.ylabel('Number of Bike Trips')\n",
    "plt.xlabel('Days of the week')\n",
    "plt.title('Trips Taken by Day')\n",
    "plt.show()"
   ]
  },
  {
   "cell_type": "markdown",
   "metadata": {
    "slideshow": {
     "slide_type": "slide"
    }
   },
   "source": [
    "### Bike trips by hours\n",
    "The peak time or the top two hours is 5:00 pm followed by 8:00 am. Moreover, from the distribiution the top two hours and the adjesant hours has large number of bike rides! This also proves that the users are renting bikes during working hours (i.e. renting bikes for commuting from/to work)."
   ]
  },
  {
   "cell_type": "code",
   "execution_count": null,
   "metadata": {
    "scrolled": true,
    "slideshow": {
     "slide_type": "subslide"
    }
   },
   "outputs": [],
   "source": [
    "binsize = 0.25\n",
    "bins = np.arange(0, df.start_hour.max()+binsize, binsize)\n",
    "plt.hist(data = df, x = 'start_hour', bins=bins)\n",
    "plt.title(\"Trips Taken by Hours - 1st Quarter of 2020\")\n",
    "plt.xlim(0,23)\n",
    "plt.xticks([0,1,2,3,4,5,6,7,8,9,10,11,12,13,14,15,16,17,18,19,20,21,22,23])\n",
    "plt.xlabel('Hours')\n",
    "plt.ylabel('Number of Bike Trips');"
   ]
  },
  {
   "cell_type": "markdown",
   "metadata": {
    "slideshow": {
     "slide_type": "slide"
    }
   },
   "source": [
    "### Bike trip distances (km)\n",
    "The distribution of the trip distance shows that most of the rides takes 1km. the second most is less than 1km. according to the statistic the average trip distance is 1.93km with 25% it takes 0.92km and 57% of the rides it takes 2.63km."
   ]
  },
  {
   "cell_type": "code",
   "execution_count": null,
   "metadata": {
    "slideshow": {
     "slide_type": "subslide"
    }
   },
   "outputs": [],
   "source": [
    "binsize = 1\n",
    "bins = np.arange(0, df.distance_km.max()+binsize, binsize)\n",
    "plt.hist(data = df, x = 'distance_km', bins=bins)\n",
    "plt.title(\"Distance Distribution of Bike Trips\")\n",
    "plt.xlim(0,10)\n",
    "plt.xlabel('Trip Distance (km)')\n",
    "plt.ylabel('Number of Bike Trips');"
   ]
  },
  {
   "cell_type": "markdown",
   "metadata": {
    "slideshow": {
     "slide_type": "slide"
    }
   },
   "source": [
    "### The rental access methods used most of the bike trips\n",
    "92.33% of the bike rental methods are by app and only 7.67% are rented by clippers (transit card)."
   ]
  },
  {
   "cell_type": "code",
   "execution_count": null,
   "metadata": {
    "slideshow": {
     "slide_type": "skip"
    }
   },
   "outputs": [],
   "source": [
    "common_method=df.rental_access_method.value_counts()/df.shape[0]*100\n",
    "common_method"
   ]
  },
  {
   "cell_type": "code",
   "execution_count": null,
   "metadata": {
    "scrolled": true,
    "slideshow": {
     "slide_type": "subslide"
    }
   },
   "outputs": [],
   "source": [
    "labels = ['App 92.33%','Clipper 7.67%']\n",
    "plt.pie(common_method,labels=common_method.index, autopct='%.2f');\n",
    "plt.axis('equal')\n",
    "plt.title('Common Rental Method for Bike Trips')\n",
    "plt.legend(labels, bbox_to_anchor=(1.3,1.0), loc=\"upper right\")\n",
    "plt.show()"
   ]
  },
  {
   "cell_type": "markdown",
   "metadata": {
    "slideshow": {
     "slide_type": "slide"
    }
   },
   "source": [
    "### User types\n",
    "86.11% of the users are subscribers while 13.88% of them are customer!"
   ]
  },
  {
   "cell_type": "code",
   "execution_count": null,
   "metadata": {
    "slideshow": {
     "slide_type": "skip"
    }
   },
   "outputs": [],
   "source": [
    "common_users=df.user_type.value_counts()/df.shape[0]*100\n",
    "common_users"
   ]
  },
  {
   "cell_type": "code",
   "execution_count": null,
   "metadata": {
    "scrolled": false,
    "slideshow": {
     "slide_type": "subslide"
    }
   },
   "outputs": [],
   "source": [
    "labels = [' Subscriber 86.11%','Customer 13.88%']\n",
    "plt.pie(common_users,labels=common_users.index, autopct='%.2f');\n",
    "plt.axis('equal')\n",
    "plt.title('Common Users Types for Bike Trips')\n",
    "plt.legend(labels, bbox_to_anchor=(1.3,1.0), loc=\"upper right\")\n",
    "plt.show()"
   ]
  },
  {
   "cell_type": "markdown",
   "metadata": {
    "slideshow": {
     "slide_type": "skip"
    }
   },
   "source": [
    "### Discuss the distribution(s) of your variable(s) of interest. Were there any unusual points? Did you need to perform any transformations?\n",
    "\n",
    "Nothing unexpected. At first it was unusual how the `Bike trip duration in minutes` had 5-10 mins (i.e. small values) but by the time we investigated other features such `user_types`,`Trips by month`,`Hours`, and `Distance in km` it was reasonable. <br/>\n"
   ]
  },
  {
   "cell_type": "markdown",
   "metadata": {
    "slideshow": {
     "slide_type": "slide"
    }
   },
   "source": [
    "## Bivariate Exploration"
   ]
  },
  {
   "cell_type": "markdown",
   "metadata": {
    "slideshow": {
     "slide_type": "slide"
    }
   },
   "source": [
    "### Relationship between user types and time duration\n",
    "From both plots it appears that the customers has higher trip duration than subscribers. Customers has longer trip duration (over 30 mins) meanwhile, subscribers take less than 30."
   ]
  },
  {
   "cell_type": "code",
   "execution_count": null,
   "metadata": {
    "slideshow": {
     "slide_type": "skip"
    }
   },
   "outputs": [],
   "source": [
    "cond=df[df.duration_min<60]"
   ]
  },
  {
   "cell_type": "code",
   "execution_count": null,
   "metadata": {
    "slideshow": {
     "slide_type": "subslide"
    }
   },
   "outputs": [],
   "source": [
    "# base_color = sb.color_palette()[0]\n",
    "# s=sb.violinplot(data = cond, y = 'duration_min', x =  'user_type' , color=base_color)\n",
    "\n",
    "plt.figure(figsize = [15, 10])\n",
    "base_color = sb.color_palette()[0]\n",
    "\n",
    "# left plot: violin plot\n",
    "plt.subplot(1, 2, 1)\n",
    "ax1 = sb.violinplot(data = cond, x = 'user_type', y = 'duration_min', color = base_color)\n",
    "\n",
    "# right plot: box plot\n",
    "plt.subplot(1, 2, 2)\n",
    "sb.boxplot(data = cond, x = 'user_type', y = 'duration_min', color = base_color)\n",
    "plt.ylim(ax1.get_ylim()) # set y-axis limits to be same as left plot\n",
    "ax1.set(xlabel='User types',ylabel='Duration (min)', title='Relationship between user types and time duration m.')\n",
    "\n",
    "\n",
    "plt.show()"
   ]
  },
  {
   "cell_type": "markdown",
   "metadata": {
    "slideshow": {
     "slide_type": "slide"
    }
   },
   "source": [
    "### Relationship between user types and months 1st quarter of 2020\n",
    "\n",
    "Both subscribers and customer hit the peak in february then decreased drastically in march."
   ]
  },
  {
   "cell_type": "code",
   "execution_count": null,
   "metadata": {
    "scrolled": true,
    "slideshow": {
     "slide_type": "subslide"
    }
   },
   "outputs": [],
   "source": [
    "ax = sb.countplot(data = df, x = 'month', hue = 'user_type', order=['January','February','March'])\n",
    "ax.legend(loc = 1, ncol = 1, framealpha = 0.5, title = 'user_type')\n",
    "ax.set(xlabel='Months',ylabel='Number of trips', title='Relationship between user types and months \\n1st quarter of 2020')\n",
    "\n",
    "plt.show()"
   ]
  },
  {
   "cell_type": "markdown",
   "metadata": {
    "slideshow": {
     "slide_type": "slide"
    }
   },
   "source": [
    "### Relationship between user types and days of week\n",
    "We notice here that subscribers are more likely to take rides in general since they represent 86%, hence, it affects the distribution of the trips by days. specifically, subscribers usage in the week days Wednesday and Friday (for work) and decreased by fraction in the weekends. Meanwhile, the customers are the less consuming/renting rides and there is a slight increasing at the weekends."
   ]
  },
  {
   "cell_type": "code",
   "execution_count": null,
   "metadata": {
    "slideshow": {
     "slide_type": "skip"
    }
   },
   "outputs": [],
   "source": [
    "weekday = ['Mon', 'Tue', 'Wed', 'Thu', 'Fri', 'Sat', 'Sun']"
   ]
  },
  {
   "cell_type": "code",
   "execution_count": null,
   "metadata": {
    "slideshow": {
     "slide_type": "subslide"
    }
   },
   "outputs": [],
   "source": [
    "ax = sb.countplot(data = df, x = 'dayofweek', hue = 'user_type', order=weekday)\n",
    "ax.legend(loc = 1, ncol = 1, framealpha = 0.5, title = 'user_type')\n",
    "ax.set(xlabel='Days of week',ylabel='Number of trips', title='Relationship between user types and days of week')\n",
    "plt.show()"
   ]
  },
  {
   "cell_type": "markdown",
   "metadata": {
    "slideshow": {
     "slide_type": "slide"
    }
   },
   "source": [
    "### Relationship between user types and time of day\n",
    "Most of the subscribers trips is taken at 8:00pm and 17:00pm which is the peak time (people go to and come from work at these hours). Meanwhile, the customers distribution entails that the trip count increases as the day progresses until 17:00pm which is the peak hour too."
   ]
  },
  {
   "cell_type": "code",
   "execution_count": null,
   "metadata": {
    "scrolled": true,
    "slideshow": {
     "slide_type": "subslide"
    }
   },
   "outputs": [],
   "source": [
    "plt.figure(figsize = [10, 5])\n",
    "ax = sb.countplot(data = df, x = 'start_hour', hue = 'user_type')\n",
    "ax.legend(loc = 1, ncol = 3, framealpha = 0.5, title = 'user_type')\n",
    "ax.set(xlabel='Hours of the day',ylabel='Number of trips', title='Relationship between user types and time of day')\n",
    "plt.show()"
   ]
  },
  {
   "cell_type": "markdown",
   "metadata": {
    "slideshow": {
     "slide_type": "slide"
    }
   },
   "source": [
    "### Relationship between user types and rental methods\n",
    "Both subscribers and customers rented bikes by app, however, both have a relatively small number of trips rented using clippers."
   ]
  },
  {
   "cell_type": "code",
   "execution_count": null,
   "metadata": {
    "scrolled": true,
    "slideshow": {
     "slide_type": "subslide"
    }
   },
   "outputs": [],
   "source": [
    "plt.figure(figsize = [10, 5])\n",
    "s=sb.countplot(data = df, x = 'rental_access_method', hue = 'user_type')\n",
    "s.set(xlabel='Rental access method',ylabel='Count', title='Relationship between user types and rental methods')\n",
    "plt.show()"
   ]
  },
  {
   "cell_type": "markdown",
   "metadata": {
    "slideshow": {
     "slide_type": "skip"
    }
   },
   "source": [
    "### Talk about some of the relationships you observed in this part of the investigation. How did the feature(s) of interest vary with other features in the dataset?\n",
    "We observed the time duration according to the user type. Also, the trip counts of user categories by month, days of the week, hours, and the relation ship between the user type and `rental access method`. Nothing out of expectation.\n",
    "#### Developed insights\n",
    "- From both plots it appears that the customers has higher trip duration than subscribers. Customers took longer trip duration (over 30 mins) meanwhile, subscribers take less than 30.\n",
    "- Both subscribers and customer hit the peak in February then decreased drastically in march.\n",
    "- Subscribers usage in the week days Wednesday and Friday (for work) and decreased by fraction in the weekends. Meanwhile, the customers are the less consuming/renting rides and there is a slight increasing at the weekends.\n",
    "- Most of subscribers trips is taken at 8:00pm and 17:00pm which is the peak time (people go to and come from work at these hours). Meanwhile, the customers distribution entails that the trip count increases as the day progresses until 17:00pm which is the peak hour too. \n",
    "- Both subscribers and customers rented bikes by app, however, both have a relatively small number of trips rented using clippers.\n",
    "\n",
    "\n",
    "### Did you observe any interesting relationships between the other features (not the main feature(s) of interest)?\n",
    "All the relationships betweent the features we tested were strong. However, a new discovery that customer trips take longer, and both user types prefered using app as rental access method."
   ]
  },
  {
   "cell_type": "markdown",
   "metadata": {
    "slideshow": {
     "slide_type": "slide"
    }
   },
   "source": [
    "## Multivariate Exploration\n",
    "The main thing I want to explore in this part of the analysis is how the three vatiables date-time (Months, Days, Hours), user type, duration (min) play into the relationship with trips count.\n",
    "Now we can answer the following \n",
    "* When are most trips taken in terms of time of day, day of the week, or month of the year?\n",
    "<br/>\n",
    "* How long does the average trip take?\n",
    "<br/>\n",
    "* Does the above depend on if a user is a subscriber or customer?\n",
    "\n"
   ]
  },
  {
   "cell_type": "markdown",
   "metadata": {
    "slideshow": {
     "slide_type": "slide"
    }
   },
   "source": [
    "### Trips duration by user type and rental method\n",
    "Both types of group used app as rental method for the trip more over than clipper (transit card). it does not seem that the rental method is effective on the other two. In trips type of users with duration affect the result, i.e. when its a customer he/she tends to have more trip duration."
   ]
  },
  {
   "cell_type": "code",
   "execution_count": null,
   "metadata": {
    "scrolled": false,
    "slideshow": {
     "slide_type": "subslide"
    }
   },
   "outputs": [],
   "source": [
    "g = sb.FacetGrid(data = cond, col = 'user_type', height=5)\n",
    "g.map(sb.boxplot, 'rental_access_method', 'duration_min')\n",
    "plt.subplots_adjust(top=0.9)\n",
    "g.fig.suptitle('Trips duration by user type and rental method')\n",
    "plt.show()\n"
   ]
  },
  {
   "cell_type": "markdown",
   "metadata": {
    "slideshow": {
     "slide_type": "slide"
    }
   },
   "source": [
    "### Trips taken in terms of time of day, day of the week, or month of the year "
   ]
  },
  {
   "cell_type": "markdown",
   "metadata": {},
   "source": [
    "**The following plotted visuals answer our main question/topic**<br/>"
   ]
  },
  {
   "cell_type": "markdown",
   "metadata": {
    "slideshow": {
     "slide_type": "slide"
    }
   },
   "source": [
    "### Trips taken in terms of day of the week and user type\n",
    "We notice here the trip duration for subscribers has consistency throughout the week days with averaage duration 5-10 minutes. However, the trip duration for customers is more than with the subscribers for all days especially during weekends. As we saw earlier in bivariate exploration and the relationship between trip duration and user types. The customers tend to take long trips on weekends compared to weekdays."
   ]
  },
  {
   "cell_type": "code",
   "execution_count": null,
   "metadata": {
    "scrolled": false,
    "slideshow": {
     "slide_type": "subslide"
    }
   },
   "outputs": [],
   "source": [
    "g = sb.FacetGrid(data = cond, col = 'user_type', height=6)\n",
    "g.map(sb.boxplot, 'dayofweek', 'duration_min',order=weekday)\n",
    "g.set(xlabel='Day of week', ylabel='Duration (min)')\n",
    "plt.subplots_adjust(top=0.9)\n",
    "g.fig.suptitle('Trips taken in terms of day of the week and user type')\n",
    "plt.show()"
   ]
  },
  {
   "cell_type": "markdown",
   "metadata": {
    "slideshow": {
     "slide_type": "skip"
    }
   },
   "source": [
    "### Trips taken in terms of time of day and user type\n",
    "The subscibers trip has two peak hours 8:00 am and 17:00 pm, meanwhile, the customers trips from 14:00 - 16:00 pm. "
   ]
  },
  {
   "cell_type": "code",
   "execution_count": null,
   "metadata": {
    "scrolled": false,
    "slideshow": {
     "slide_type": "skip"
    }
   },
   "outputs": [],
   "source": [
    "g = sb.FacetGrid(data = cond, col = 'user_type', height=8)\n",
    "g.map(sb.boxplot, 'start_hour', 'duration_min',order=[0,1,2,3,4,5,6,7,8,9,10,11,12,13,14,15,16,17,18,19,20,21,22,23])\n",
    "g.set(xlabel='Time of day', ylabel='Duration (min)')\n",
    "g.fig.suptitle='Trips taken in terms of time of day and user type \\n (1st Quarter of 2020)'\n",
    "plt.subplots_adjust(top=0.7)\n",
    "plt.show()"
   ]
  },
  {
   "cell_type": "code",
   "execution_count": null,
   "metadata": {
    "scrolled": false,
    "slideshow": {
     "slide_type": "skip"
    }
   },
   "outputs": [],
   "source": [
    "cat_means = cond.groupby(['user_type', 'start_hour']).mean()['duration_min']\n",
    "cat_means = cat_means.reset_index(name = 'duration_min')\n",
    "cat_means = cat_means.pivot(index = 'start_hour', columns = 'user_type',\n",
    "                            values = 'duration_min')\n",
    "s=sb.heatmap(cat_means, annot = True, fmt = '.3f',\n",
    "           cbar_kws = {'label' : 'mean(duration_min)'})\n",
    "s.set(xlabel='Time of day', ylabel='Hours', title='Trips taken in terms of time of the day and user type \\n (1st Quarter of 2020)')\n",
    "plt.show()"
   ]
  },
  {
   "cell_type": "markdown",
   "metadata": {
    "slideshow": {
     "slide_type": "slide"
    }
   },
   "source": [
    "### Trips taken by months and user type\n",
    "The customers still have the higher trip duration, however, there is consistency in time duration throughout the months..."
   ]
  },
  {
   "cell_type": "code",
   "execution_count": null,
   "metadata": {
    "scrolled": false,
    "slideshow": {
     "slide_type": "subslide"
    }
   },
   "outputs": [],
   "source": [
    "g = sb.FacetGrid(data = cond, col = 'user_type', height=8)\n",
    "g.map(sb.boxplot, 'month', 'duration_min', order=['January','February','March'])\n",
    "g.set(xlabel='Months of 1st Q', ylabel='Duration (min)')\n",
    "plt.subplots_adjust(top=0.9)\n",
    "g.fig.suptitle='Trips taken by months \\n and user type'\n",
    "plt.show()"
   ]
  },
  {
   "cell_type": "markdown",
   "metadata": {
    "slideshow": {
     "slide_type": "slide"
    }
   },
   "source": [
    "### Talk about some of the relationships you observed in this part of the investigation. Were there features that strengthened each other in terms of looking at your feature(s) of interest?\n",
    "I extended my investigation of the three vatiables date-time (Months, Days, Hours), user type, trip duration (min) in this section by looking at the impact of it on the trips..\n",
    "To answer the following \n",
    "* When are most trips taken in terms of time of day, day of the week, or month of the year?\n",
    "* How long does the average trip take?\n",
    "* Does the above depend on if a user is a subscriber or customer?\n",
    "The findings was just as we expected. \n",
    "\n"
   ]
  },
  {
   "cell_type": "markdown",
   "metadata": {
    "slideshow": {
     "slide_type": "slide"
    }
   },
   "source": [
    "### Were there any interesting or surprising interactions between features?\n",
    "Looking back on the point plots, the time-date and user-type features has an effect on the trips. However, there were no relation between the rental method and the user type. Overall, the results match our previous observations and expectations.  \n",
    "\n"
   ]
  },
  {
   "cell_type": "markdown",
   "metadata": {
    "slideshow": {
     "slide_type": "slide"
    }
   },
   "source": [
    "### Key Insights \n",
    "- The the bike is rented for about 5-10 minutes. Moreover, the average renting time according to the statistic summary is 12 minutes.\n",
    "- 92.33% of the bike rental methods are by app and only 7.67% are rented by clippers (transit card).\n",
    "- 86.11% of the users are subscribers while 13.88% of them are customer!\n",
    "- February is the top month for bike trips.\n",
    "- Most of subscribers trips has two peak hours at 8:00pm and 17:00pm which is work-time (I'm assuming people go to and come from work at these hours). Meanwhile, the customers distribution entails that the trip count increases as the day progresses from 14:00 until 17:00pm which is the peak time too.\n",
    "- The subscriber type has consistency throughout the week days with averaage duration 5-10 minutes while, the customers type has higher duration (over 20 min trip duration) during the weekends. \n",
    "- Both subscribers and customers rented bikes by app, however, both have a relatively small number of trips rented using clippers.\n",
    "\n"
   ]
  },
  {
   "cell_type": "markdown",
   "metadata": {
    "slideshow": {
     "slide_type": "slide"
    }
   },
   "source": [
    "## References\n",
    "[1] https://gist.github.com/rochacbruno/2883505 <br/>\n",
    "[2] https://pandas.pydata.org/pandas-docs/stable/reference/api/pandas.DataFrame.reset_index.html <br/>\n",
    "[3] https://news.google.com/covid19/map?hl=en-US&mid=%2Fg%2F11g6njkk2y&gl=US&ceid=US%3Aen <br/>\n",
    "[4] Udacity - https://udacity.com/<br/>\n",
    "[5] YouTube Tutorials - https://www.youtube.com/<br/>\n",
    "[6] stackoverflow - https://stackoverflow.com <br/>\n",
    "[7] Title positioning error - suptitle - https://stackoverflow.com/questions/52096050/seaborn-title-position"
   ]
  },
  {
   "cell_type": "markdown",
   "metadata": {
    "slideshow": {
     "slide_type": "slide"
    }
   },
   "source": [
    "# Thank you!\n",
    "### Shroug Salem"
   ]
  },
  {
   "cell_type": "code",
   "execution_count": null,
   "metadata": {
    "slideshow": {
     "slide_type": "skip"
    }
   },
   "outputs": [],
   "source": [
    "! jupyter nbconvert FordGoBikeSystemData_slide_deck.ipynb --to slides --post serve --template output_toggle"
   ]
  },
  {
   "cell_type": "code",
   "execution_count": null,
   "metadata": {
    "slideshow": {
     "slide_type": "skip"
    }
   },
   "outputs": [],
   "source": [
    "from subprocess import call\n",
    "call(['python', '-m', 'nbconvert', 'FordGoBikeSystemData_slide_deck.ipynb'])"
   ]
  }
 ],
 "metadata": {
  "celltoolbar": "Slideshow",
  "kernelspec": {
   "display_name": "Python 3",
   "language": "python",
   "name": "python3"
  },
  "language_info": {
   "codemirror_mode": {
    "name": "ipython",
    "version": 3
   },
   "file_extension": ".py",
   "mimetype": "text/x-python",
   "name": "python",
   "nbconvert_exporter": "python",
   "pygments_lexer": "ipython3",
   "version": "3.7.6"
  }
 },
 "nbformat": 4,
 "nbformat_minor": 4
}
